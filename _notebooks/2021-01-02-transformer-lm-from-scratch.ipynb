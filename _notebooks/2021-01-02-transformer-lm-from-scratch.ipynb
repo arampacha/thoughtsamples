{
 "cells": [
  {
   "cell_type": "markdown",
   "metadata": {
    "id": "9A2Vv1FysshA"
   },
   "source": [
    "# A Transformer based Language Model from scratch\n",
    "> Building transformer with simple building blocks\n",
    "\n",
    "- toc: true\n",
    "- branch: master\n",
    "- badges: true\n",
    "- comments: true\n",
    "- author: Arto\n",
    "- categories: [fastai, pytorch]"
   ]
  },
  {
   "cell_type": "code",
   "execution_count": null,
   "metadata": {
    "id": "J1vMAp9RdEME"
   },
   "outputs": [],
   "source": [
    "#hide\n",
    "import sys\n",
    "if 'google.colab' in sys.modules:\n",
    "    !pip install -Uqq fastai"
   ]
  },
  {
   "cell_type": "markdown",
   "metadata": {
    "id": "x60WAzoFsshC"
   },
   "source": [
    "In this notebook i'm going to construct transformer based language model from scratch starting with the simplest building blocks. This is inspired by Chapter 12 of [Deep Learning for Coders book](https://www.amazon.com/Deep-Learning-Coders-fastai-PyTorch/dp/1492045527) in which it's demonstrated how to create a Recurrent Neural Network. It provides a strong intuition of how RNNs relate to regular feed-forward neural nets and why certain design choices were made. Here we aim to aquire similar kind of intuition about Transfomer based architectures.\n",
    "\n",
    "But as always we should start with the data to be modeled, 'cause without data any model makes no particular sense."
   ]
  },
  {
   "cell_type": "markdown",
   "metadata": {
    "id": "n-11Hp1FsshD"
   },
   "source": [
    "## Data"
   ]
  },
  {
   "cell_type": "markdown",
   "metadata": {
    "id": "4sY7YjqxsshE"
   },
   "source": [
    "Similar to authors of the book I'll use simple Human numbers dataset which is specifically designed to prototyping model fast and straightforward. For more details on the data one can refer to the aforemantioned book chapter which is also available for free as [a notebook](https://github.com/fastai/fastbook/blob/master/12_nlp_dive.ipynb) (isn't that awesome?!)"
   ]
  },
  {
   "cell_type": "code",
   "execution_count": null,
   "metadata": {
    "colab": {
     "base_uri": "https://localhost:8080/",
     "height": 36
    },
    "id": "ZVbdeXJLfDWA",
    "outputId": "48c4913a-cb59-4931-d8f1-9c4e11211b27"
   },
   "outputs": [
    {
     "data": {
      "text/html": [],
      "text/plain": [
       "<IPython.core.display.HTML object>"
      ]
     },
     "metadata": {
      "tags": []
     },
     "output_type": "display_data"
    },
    {
     "data": {
      "text/plain": [
       "(#2) [Path('train.txt'),Path('valid.txt')]"
      ]
     },
     "execution_count": 3,
     "metadata": {
      "tags": []
     },
     "output_type": "execute_result"
    }
   ],
   "source": [
    "from fastai.text.all import *\n",
    "path = untar_data(URLs.HUMAN_NUMBERS)\n",
    "Path.BASE_PATH = path\n",
    "path.ls()"
   ]
  },
  {
   "cell_type": "markdown",
   "metadata": {
    "id": "Yvaqd-EFsshI"
   },
   "source": [
    "The data consists of consecutive numbers from 1 to 9999 inclusive spelled as words."
   ]
  },
  {
   "cell_type": "code",
   "execution_count": null,
   "metadata": {
    "colab": {
     "base_uri": "https://localhost:8080/"
    },
    "id": "12L4Y2IZfP3U",
    "outputId": "9f3be0fb-c929-48bc-c590-96f440eca385"
   },
   "outputs": [
    {
     "data": {
      "text/plain": [
       "(#9998) ['one \\n','two \\n','three \\n','four \\n','five \\n','six \\n','seven \\n','eight \\n','nine \\n','ten \\n'...]"
      ]
     },
     "execution_count": 4,
     "metadata": {
      "tags": []
     },
     "output_type": "execute_result"
    }
   ],
   "source": [
    "lines = L()\n",
    "with open(path/'train.txt') as f: lines += L(*f.readlines())\n",
    "with open(path/'valid.txt') as f: lines += L(*f.readlines())\n",
    "lines"
   ]
  },
  {
   "cell_type": "code",
   "execution_count": null,
   "metadata": {
    "colab": {
     "base_uri": "https://localhost:8080/"
    },
    "id": "3DmYFw56fVkG",
    "outputId": "d0ec13bf-209b-4c4a-83b0-8cbd85a1e7b7"
   },
   "outputs": [
    {
     "data": {
      "text/plain": [
       "['one', '.', 'two', '.', 'three', '.', 'four', '.', 'five', '.']"
      ]
     },
     "execution_count": 5,
     "metadata": {
      "tags": []
     },
     "output_type": "execute_result"
    }
   ],
   "source": [
    "text = ' . '.join([l.strip() for l in lines])\n",
    "tokens = text.split(' ')\n",
    "tokens[:10]"
   ]
  },
  {
   "cell_type": "code",
   "execution_count": null,
   "metadata": {
    "colab": {
     "base_uri": "https://localhost:8080/"
    },
    "id": "ShoK-h1tfd7v",
    "outputId": "a41cf235-6889-4259-a093-edc0bedce693"
   },
   "outputs": [
    {
     "data": {
      "text/plain": [
       "(#30) ['one','.','two','three','four','five','six','seven','eight','nine'...]"
      ]
     },
     "execution_count": 6,
     "metadata": {
      "tags": []
     },
     "output_type": "execute_result"
    }
   ],
   "source": [
    "vocab = L(*tokens).unique()\n",
    "vocab"
   ]
  },
  {
   "cell_type": "code",
   "execution_count": null,
   "metadata": {
    "colab": {
     "base_uri": "https://localhost:8080/"
    },
    "id": "tEJDCek3fi1Q",
    "outputId": "16178949-2eb7-462e-e7b9-29110c044476"
   },
   "outputs": [
    {
     "data": {
      "text/plain": [
       "(#63095) [0,1,2,1,3,1,4,1,5,1...]"
      ]
     },
     "execution_count": 7,
     "metadata": {
      "tags": []
     },
     "output_type": "execute_result"
    }
   ],
   "source": [
    "word2idx = {w:i for i,w in enumerate(vocab)}\n",
    "nums = L(word2idx[i] for i in tokens)\n",
    "nums"
   ]
  },
  {
   "cell_type": "markdown",
   "metadata": {
    "id": "N0h8tG_xsshO"
   },
   "source": [
    "The task will be to predict subsequent token given preceding three. This kind of tasks when the goal is to predict next token from previous ones is called autoregresive language modeling."
   ]
  },
  {
   "cell_type": "code",
   "execution_count": null,
   "metadata": {
    "colab": {
     "base_uri": "https://localhost:8080/"
    },
    "id": "ZvtW2XIVfqa_",
    "outputId": "d537fdb9-9f8b-4c4e-a56c-20f68ffa61bb"
   },
   "outputs": [
    {
     "data": {
      "text/plain": [
       "(#21031) [(['one', '.', 'two'], '.'),(['.', 'three', '.'], 'four'),(['four', '.', 'five'], '.'),(['.', 'six', '.'], 'seven'),(['seven', '.', 'eight'], '.'),(['.', 'nine', '.'], 'ten'),(['ten', '.', 'eleven'], '.'),(['.', 'twelve', '.'], 'thirteen'),(['thirteen', '.', 'fourteen'], '.'),(['.', 'fifteen', '.'], 'sixteen')...]"
      ]
     },
     "execution_count": 8,
     "metadata": {
      "tags": []
     },
     "output_type": "execute_result"
    }
   ],
   "source": [
    "L((tokens[i:i+3], tokens[i+3]) for i in range(0,len(tokens)-4,3))"
   ]
  },
  {
   "cell_type": "code",
   "execution_count": null,
   "metadata": {
    "colab": {
     "base_uri": "https://localhost:8080/"
    },
    "id": "GLkeIFFafwyb",
    "outputId": "22a8149b-315d-454e-ece8-9ebd126c939e"
   },
   "outputs": [
    {
     "data": {
      "text/plain": [
       "(#21031) [(tensor([0, 1, 2]), 1),(tensor([1, 3, 1]), 4),(tensor([4, 1, 5]), 1),(tensor([1, 6, 1]), 7),(tensor([7, 1, 8]), 1),(tensor([1, 9, 1]), 10),(tensor([10,  1, 11]), 1),(tensor([ 1, 12,  1]), 13),(tensor([13,  1, 14]), 1),(tensor([ 1, 15,  1]), 16)...]"
      ]
     },
     "execution_count": 9,
     "metadata": {
      "tags": []
     },
     "output_type": "execute_result"
    }
   ],
   "source": [
    "seqs = L((tensor(nums[i:i+3]), nums[i+3]) for i in range(0,len(nums)-4,3))\n",
    "seqs"
   ]
  },
  {
   "cell_type": "code",
   "execution_count": null,
   "metadata": {
    "id": "OiZ42KiSf4xZ"
   },
   "outputs": [],
   "source": [
    "bs = 64\n",
    "cut = int(len(seqs) * 0.8)\n",
    "dls = DataLoaders.from_dsets(seqs[:cut], seqs[cut:], bs=64, shuffle=False)"
   ]
  },
  {
   "cell_type": "code",
   "execution_count": null,
   "metadata": {
    "colab": {
     "base_uri": "https://localhost:8080/"
    },
    "id": "KgdGMBpdsshQ",
    "outputId": "d8f50b48-c5cc-4026-a6d9-bc88aa17fd31"
   },
   "outputs": [
    {
     "data": {
      "text/plain": [
       "(torch.Size([64, 3]), torch.Size([64]))"
      ]
     },
     "execution_count": 11,
     "metadata": {
      "tags": []
     },
     "output_type": "execute_result"
    }
   ],
   "source": [
    "x, y = dls.one_batch()\n",
    "x.shape, y.shape"
   ]
  },
  {
   "cell_type": "markdown",
   "metadata": {
    "id": "Ey8OWvHTtdPQ"
   },
   "source": [
    "## Dot product attention"
   ]
  },
  {
   "cell_type": "markdown",
   "metadata": {
    "id": "LcFJaSnwgfuz"
   },
   "source": [
    "![Multi head attention](https://github.com/fastai/course-v3/blob/master/nbs/dl2/images/attention.png?raw=1 \"credit: Attention is all you need\")"
   ]
  },
  {
   "cell_type": "markdown",
   "metadata": {
    "id": "tB8UKIdlsshQ"
   },
   "source": [
    "The core idea behind Transformers is Attention. Since the release of famous paper [Attention is All You Need](https://arxiv.org/abs/1706.03762) transformers has become most popular architecture for language modelling. \n",
    "\n",
    "There are a lot of great resourses explaining transformers architecture. I'll list some of those I found useful and comprehensive:\n",
    "1. [The Annotated Transformer](http://nlp.seas.harvard.edu/2018/04/03/attention.html) completes the original paper with code\n",
    "2. [Encoder-Decoder Model](https://colab.research.google.com/github/patrickvonplaten/notebooks/blob/master/Encoder_Decoder_Model.ipynb) notebook by huggingface gives mathemetically grounded explanation of how transformer encoder-decoder models work\n",
    "3. [The Illustrated GPT-2](https://jalammar.github.io/illustrated-gpt2/) one of the great blogposts by Jay Alammar visualizing generative language modelling on exaple of GPT-2\n",
    "4. [minGPT](https://github.com/karpathy/minGPT) cool repo by A. Karpathy providing clear minimal implementation of GPT model\n",
    "\n",
    "There exist multiple attention mechanisms. The particular one used in the original transformer paper is Scaled Dot Product attention.\n",
    "Given query vector for particular token we will compare it with a key vector for each token in a sequence and decide how much value vectors of those will effect resulting representetion of the token of interest. One way to view this from a linguistic prospective is: a key is a question each word respondes to, value is information that word represent and a query is related to what every word was looking to combine with.\n",
    "\n",
    "Mathemetically we can compute attention for all _q_, _k_, _v_ in a matrix form:\n",
    "\n",
    "$$\\textbf {Attention}(Q,K,V) = \\textbf {softmax}({QK^T\\over\\sqrt d_k})V $$\n",
    "\n",
    "Note that dot product $QK^T$ results in matrix of shape (seq_len x seq_len). Then it is devided by $ \\sqrt d_k$ to compensate the fact, that longer sequences will have larger dot product. $ \\textbf{softmax}$ is applied to rescale the attention matrix to be betwin 0 and 1. When multiplied by $V$ it produces a matrix of the same shape as $V$ (seq_len x dv).\n",
    "\n",
    "So where those _q_, _k_, _v_ come from. Well that's fairly straitforward queries are culculated from the embeddings of tokens we want to find representation for by simple linear projection. Keys and values are calculated from the embeddings of context tokens. In case of self attention all of them come from the original sequence."
   ]
  },
  {
   "cell_type": "code",
   "execution_count": null,
   "metadata": {
    "id": "5zoekAIjggu0"
   },
   "outputs": [],
   "source": [
    "class SelfAttention(Module):\n",
    "    def __init__(self, d_in, d_qk, d_v=None):\n",
    "        d_v = ifnone(d_v, d_qk)\n",
    "        self.iq = nn.Linear(d_in, d_qk)\n",
    "        self.ik = nn.Linear(d_in, d_qk)\n",
    "        self.iv = nn.Linear(d_in, d_v)\n",
    "        self.out = nn.Linear(d_v, d_in)\n",
    "        self.scale = d_qk**-0.5\n",
    "    def forward(self, x):\n",
    "        q, k, v = self.iq(x), self.ik(x), self.iv(x)\n",
    "        q *= self.scale\n",
    "        return self.out(F.softmax(q@k.transpose(-2,-1), -1)@v)"
   ]
  },
  {
   "cell_type": "markdown",
   "metadata": {
    "id": "qF-v9-PzsshR"
   },
   "source": [
    "Even though self attention mechanism is extremely useful it posseses limited expressive power. Essentially we are computing weighted some of the input modified by single affine transformation, shared across the whole sequence. To add more computational power to the model we can introduce fully connected feedforward network on top of the SelfAttention layer.\n",
    "\n",
    "Curious reader can find detailed formal analysis of the roles of SelfAttention and FeedForward layers in transformer architecture in [this paper](https://arxiv.org/pdf/1912.10077.pdf) by C. Yun et al.\n",
    "In brief the authors state that SelfAttention layers compute precise contextual maps and FeedForward layers then assign the results of these contextual maps to the desired output values."
   ]
  },
  {
   "cell_type": "code",
   "execution_count": null,
   "metadata": {
    "id": "a6f2StdmsSG9"
   },
   "outputs": [],
   "source": [
    "class FeedForward(Module):\n",
    "    def __init__(self, d_in, d_ff):\n",
    "        self.lin1 = nn.Linear(d_in, d_ff)\n",
    "        self.lin2 = nn.Linear(d_ff, d_in)\n",
    "        self.act = nn.ReLU()\n",
    "        \n",
    "    def forward(self, x):\n",
    "        out = self.lin2(self.act(self.lin1(x)))\n",
    "        return out"
   ]
  },
  {
   "cell_type": "markdown",
   "metadata": {
    "id": "YyMxyFoHsshS"
   },
   "source": [
    "The output would be of shape (bs, seq_len, d) which then may be mapped to (bs, seq_len, vocab_sz) using linear layer. But we have only one target. To adress this issue we can simply do average pooling over seq_len dimention.\n",
    "\n",
    "The resulting model is fairly simple:"
   ]
  },
  {
   "cell_type": "code",
   "execution_count": null,
   "metadata": {
    "id": "44Kuw_5-sshS"
   },
   "outputs": [],
   "source": [
    "class Model1(Module):\n",
    "    def __init__(self, vocab_sz, d_model, d_qk, d_ff):\n",
    "        self.emb = Embedding(vocab_sz, d_model)\n",
    "        self.attn = SelfAttention(d_model, d_qk)\n",
    "        self.ff = FeedForward(d_model, d_ff)\n",
    "        self.out = nn.Linear(d_model, vocab_sz)\n",
    "    def forward(self, x):\n",
    "        x = self.emb(x)\n",
    "        x = self.ff(self.attn(x))\n",
    "        x = x.mean(1)\n",
    "        return self.out(x)"
   ]
  },
  {
   "cell_type": "code",
   "execution_count": null,
   "metadata": {
    "colab": {
     "base_uri": "https://localhost:8080/"
    },
    "id": "2Kc2Brs_sshT",
    "outputId": "866a43b2-5e35-49c7-9edf-6e9552503130"
   },
   "outputs": [
    {
     "data": {
      "text/plain": [
       "torch.Size([64, 30])"
      ]
     },
     "execution_count": 15,
     "metadata": {
      "tags": []
     },
     "output_type": "execute_result"
    }
   ],
   "source": [
    "model = Model1(len(vocab), 64, 64, 128)\n",
    "out = model(x)\n",
    "out.shape"
   ]
  },
  {
   "cell_type": "code",
   "execution_count": null,
   "metadata": {
    "colab": {
     "base_uri": "https://localhost:8080/",
     "height": 302
    },
    "id": "wdlv6yA7sshT",
    "outputId": "675af4e1-4d6a-4c50-b3ec-2fb96c7b6941"
   },
   "outputs": [
    {
     "data": {
      "text/html": [],
      "text/plain": [
       "<IPython.core.display.HTML object>"
      ]
     },
     "metadata": {
      "tags": []
     },
     "output_type": "display_data"
    },
    {
     "data": {
      "text/plain": [
       "SuggestedLRs(lr_min=0.004786301031708717, lr_steep=0.019054606556892395)"
      ]
     },
     "execution_count": 16,
     "metadata": {
      "tags": []
     },
     "output_type": "execute_result"
    },
    {
     "data": {
      "image/png": "[encoded data removed]",
      "text/plain": [
       "<Figure size 432x288 with 1 Axes>"
      ]
     },
     "metadata": {
      "needs_background": "light",
      "tags": []
     },
     "output_type": "display_data"
    }
   ],
   "source": [
    "learn = Learner(dls, model, loss_func=CrossEntropyLossFlat(), metrics=accuracy)\n",
    "learn.lr_find()"
   ]
  },
  {
   "cell_type": "code",
   "execution_count": null,
   "metadata": {
    "colab": {
     "base_uri": "https://localhost:8080/",
     "height": 225
    },
    "id": "bWcCi6R_sshU",
    "outputId": "e9ff83c5-1a70-482e-94e0-f8583a5e1abe"
   },
   "outputs": [
    {
     "data": {
      "text/html": [
       "<table border=\"1\" class=\"dataframe\">\n",
       "  <thead>\n",
       "    <tr style=\"text-align: left;\">\n",
       "      <th>epoch</th>\n",
       "      <th>train_loss</th>\n",
       "      <th>valid_loss</th>\n",
       "      <th>accuracy</th>\n",
       "      <th>time</th>\n",
       "    </tr>\n",
       "  </thead>\n",
       "  <tbody>\n",
       "    <tr>\n",
       "      <td>0</td>\n",
       "      <td>2.023451</td>\n",
       "      <td>2.183568</td>\n",
       "      <td>0.416211</td>\n",
       "      <td>00:03</td>\n",
       "    </tr>\n",
       "    <tr>\n",
       "      <td>1</td>\n",
       "      <td>1.563715</td>\n",
       "      <td>2.401872</td>\n",
       "      <td>0.361540</td>\n",
       "      <td>00:03</td>\n",
       "    </tr>\n",
       "    <tr>\n",
       "      <td>2</td>\n",
       "      <td>1.540635</td>\n",
       "      <td>1.874314</td>\n",
       "      <td>0.452817</td>\n",
       "      <td>00:03</td>\n",
       "    </tr>\n",
       "    <tr>\n",
       "      <td>3</td>\n",
       "      <td>1.594812</td>\n",
       "      <td>1.739459</td>\n",
       "      <td>0.456145</td>\n",
       "      <td>00:03</td>\n",
       "    </tr>\n",
       "    <tr>\n",
       "      <td>4</td>\n",
       "      <td>1.614958</td>\n",
       "      <td>1.713703</td>\n",
       "      <td>0.468743</td>\n",
       "      <td>00:03</td>\n",
       "    </tr>\n",
       "  </tbody>\n",
       "</table>"
      ],
      "text/plain": [
       "<IPython.core.display.HTML object>"
      ]
     },
     "metadata": {
      "tags": []
     },
     "output_type": "display_data"
    }
   ],
   "source": [
    "learn.fit_one_cycle(5, 5e-3)"
   ]
  },
  {
   "cell_type": "markdown",
   "metadata": {
    "id": "Hoz346ussshU"
   },
   "source": [
    "To evaluete the model performance we need to compare it to some baseline. Let's see what would be the accuracy if of the model which would always predict most common token."
   ]
  },
  {
   "cell_type": "code",
   "execution_count": null,
   "metadata": {
    "colab": {
     "base_uri": "https://localhost:8080/"
    },
    "id": "Hf16xi3CsshU",
    "outputId": "3b5bd97c-cc15-42e9-aa32-43476e158467"
   },
   "outputs": [
    {
     "data": {
      "text/plain": [
       "(tensor(29), 'thousand', 0.15165200855716662)"
      ]
     },
     "execution_count": 18,
     "metadata": {
      "tags": []
     },
     "output_type": "execute_result"
    }
   ],
   "source": [
    "n,counts = 0,torch.zeros(len(vocab))\n",
    "for x,y in dls.valid:\n",
    "    n += y.shape[0]\n",
    "    for i in range_of(vocab): counts[i] += (y==i).long().sum()\n",
    "idx = torch.argmax(counts)\n",
    "idx, vocab[idx.item()], counts[idx].item()/n"
   ]
  },
  {
   "cell_type": "markdown",
   "metadata": {
    "id": "qOxKN6XcsshU"
   },
   "source": [
    "As you can see, always predicting \"thousand\" which turn out to be the most common token in the dataset would result in ~15% accuracy. Our simple transformer does much better then that. It feels promising, so let's try to improve the architecture and check if we can get better results."
   ]
  },
  {
   "cell_type": "markdown",
   "metadata": {
    "heading_collapsed": true,
    "id": "jlSYyLCrsshV"
   },
   "source": [
    "### Multihead attention"
   ]
  },
  {
   "cell_type": "markdown",
   "metadata": {
    "hidden": true,
    "id": "j7qA-aotsshW"
   },
   "source": [
    "A structured sequence may comprise multiple distinctive kinds of relationships. Our model is forced to learn only one way in which queries, keys and values are constructed from the original token embedding. To remove this limitation we can modify attention layer include multiple heads which would correspond to extracting different kinds of relationships between tokens. The MultiHeadAttention layer consits of several heads each of those is similar to SelfAttention layer we made before. To keep computational cost of the multi-head layer we set $d_k = d_v = d_{model}/n_h$, where $n_h$ is number of heads."
   ]
  },
  {
   "cell_type": "code",
   "execution_count": null,
   "metadata": {
    "hidden": true,
    "id": "srsGDguwsshW"
   },
   "outputs": [],
   "source": [
    "class SelfAttention(Module):\n",
    "    def __init__(self, d_in, d_qk, d_v=None):\n",
    "        d_v = ifnone(d_v, d_qk)\n",
    "        self.iq = nn.Linear(d_in, d_qk)\n",
    "        self.ik = nn.Linear(d_in, d_qk)\n",
    "        self.iv = nn.Linear(d_in, d_v)\n",
    "        self.scale = d_qk**-0.5\n",
    "    def forward(self, x):\n",
    "        q, k, v = self.iq(x), self.ik(x), self.iv(x)\n",
    "        return F.softmax(q@k.transpose(-2,-1)*self.scale, -1)@v"
   ]
  },
  {
   "cell_type": "code",
   "execution_count": null,
   "metadata": {
    "hidden": true,
    "id": "zLkd5coesshW"
   },
   "outputs": [],
   "source": [
    "class MultiHeadAttention(Module):\n",
    "    def __init__(self, d_model, n_heads, d_qk=None, d_v=None):\n",
    "        d_qk = ifnone(d_qk, d_model//n_heads)\n",
    "        d_v = ifnone(d_v, d_qk)\n",
    "        self.heads = nn.ModuleList([SelfAttention(d_model, d_qk) for _ in range(n_heads)])\n",
    "        self.out = nn.Linear(d_v*n_heads, d_model)\n",
    "        \n",
    "    def forward(self, x):\n",
    "        out = [m(x) for m in self.heads]\n",
    "        return self.out(torch.cat(out, -1))"
   ]
  },
  {
   "cell_type": "code",
   "execution_count": null,
   "metadata": {
    "colab": {
     "base_uri": "https://localhost:8080/"
    },
    "hidden": true,
    "id": "y1Y07xHnsshW",
    "outputId": "0c18bcd5-ab33-4b24-f2cb-ce6b603a75b3"
   },
   "outputs": [
    {
     "data": {
      "text/plain": [
       "torch.Size([8, 10, 64])"
      ]
     },
     "execution_count": 21,
     "metadata": {
      "tags": []
     },
     "output_type": "execute_result"
    }
   ],
   "source": [
    "inp = torch.randn(8, 10, 64)\n",
    "mha = MultiHeadAttention(64, 8)\n",
    "out = mha(inp)\n",
    "out.shape"
   ]
  },
  {
   "cell_type": "code",
   "execution_count": null,
   "metadata": {
    "hidden": true,
    "id": "0S46eBX0sshW"
   },
   "outputs": [],
   "source": [
    "class Model2(Module):\n",
    "    def __init__(self, vocab_sz, d_model=64, n_heads=4, d_ff=64*4):\n",
    "        self.emb = nn.Embedding(vocab_sz, d_model)\n",
    "        self.attn = MultiHeadAttention(d_model, n_heads)\n",
    "        self.ff = FeedForward(d_model, d_ff)\n",
    "        self.out = nn.Linear(d_model, vocab_sz)\n",
    "    def forward(self, x):\n",
    "        x = self.emb(x)\n",
    "        x = self.ff(self.attn(x))\n",
    "        x = x.mean(1)\n",
    "        return self.out(x)"
   ]
  },
  {
   "cell_type": "code",
   "execution_count": null,
   "metadata": {
    "colab": {
     "base_uri": "https://localhost:8080/",
     "height": 225
    },
    "hidden": true,
    "id": "fQSljV_FsshX",
    "outputId": "52b92c0c-bcea-480d-e03c-c1a249e8096e"
   },
   "outputs": [
    {
     "data": {
      "text/html": [
       "<table border=\"1\" class=\"dataframe\">\n",
       "  <thead>\n",
       "    <tr style=\"text-align: left;\">\n",
       "      <th>epoch</th>\n",
       "      <th>train_loss</th>\n",
       "      <th>valid_loss</th>\n",
       "      <th>accuracy</th>\n",
       "      <th>time</th>\n",
       "    </tr>\n",
       "  </thead>\n",
       "  <tbody>\n",
       "    <tr>\n",
       "      <td>0</td>\n",
       "      <td>2.177783</td>\n",
       "      <td>2.223564</td>\n",
       "      <td>0.332303</td>\n",
       "      <td>00:04</td>\n",
       "    </tr>\n",
       "    <tr>\n",
       "      <td>1</td>\n",
       "      <td>1.629889</td>\n",
       "      <td>1.867587</td>\n",
       "      <td>0.445210</td>\n",
       "      <td>00:04</td>\n",
       "    </tr>\n",
       "    <tr>\n",
       "      <td>2</td>\n",
       "      <td>1.607201</td>\n",
       "      <td>1.738342</td>\n",
       "      <td>0.464464</td>\n",
       "      <td>00:04</td>\n",
       "    </tr>\n",
       "    <tr>\n",
       "      <td>3</td>\n",
       "      <td>1.606301</td>\n",
       "      <td>1.711135</td>\n",
       "      <td>0.467316</td>\n",
       "      <td>00:04</td>\n",
       "    </tr>\n",
       "    <tr>\n",
       "      <td>4</td>\n",
       "      <td>1.592446</td>\n",
       "      <td>1.708671</td>\n",
       "      <td>0.467554</td>\n",
       "      <td>00:04</td>\n",
       "    </tr>\n",
       "  </tbody>\n",
       "</table>"
      ],
      "text/plain": [
       "<IPython.core.display.HTML object>"
      ]
     },
     "metadata": {
      "tags": []
     },
     "output_type": "display_data"
    }
   ],
   "source": [
    "learn = Learner(dls, Model2(len(vocab)), loss_func=CrossEntropyLossFlat(), metrics=accuracy)\n",
    "learn.fit_one_cycle(5, 5e-4)"
   ]
  },
  {
   "cell_type": "markdown",
   "metadata": {
    "heading_collapsed": true,
    "id": "4-6ZF266sshX"
   },
   "source": [
    "### MultiHead Attention Refactor"
   ]
  },
  {
   "cell_type": "markdown",
   "metadata": {
    "hidden": true,
    "id": "-Uu_op6AsshX"
   },
   "source": [
    "Python `for` loops are slow, therefore it is better to refactor the MultiHeadAttention module to compute Q, K, V for all heads in batch."
   ]
  },
  {
   "cell_type": "code",
   "execution_count": null,
   "metadata": {
    "hidden": true,
    "id": "PQ1zYW_2sshX"
   },
   "outputs": [],
   "source": [
    "class MultiHeadAttention(Module):\n",
    "    def __init__(self, d_model, n_heads):\n",
    "        assert d_model%n_heads == 0\n",
    "        self.n_heads = n_heads\n",
    "        #d_qk, d_v = d_model//n_heads, d_model//n_heads\n",
    "        self.iq = nn.Linear(d_model, d_model, bias=False)\n",
    "        self.ik = nn.Linear(d_model, d_model, bias=False)\n",
    "        self.iv = nn.Linear(d_model, d_model, bias=False)\n",
    "        self.out = nn.Linear(d_model, d_model, bias=False)\n",
    "        self.scale = d_model//n_heads\n",
    "        \n",
    "    def forward(self, x):\n",
    "        bs, seq_len, d = x.size()\n",
    "        # (bs,sl,d) -> (bs,sl,nh,dh) -> (bs,nh,sl,dh)\n",
    "        q = self.iq(x).view(bs, seq_len, self.n_heads, d//self.n_heads).transpose(1, 2)\n",
    "        k = self.ik(x).view(bs, seq_len, self.n_heads, d//self.n_heads).transpose(1, 2)\n",
    "        v = self.iv(x).view(bs, seq_len, self.n_heads, d//self.n_heads).transpose(1, 2)\n",
    "        q*= self.scale\n",
    "        att = F.softmax(q@k.transpose(-2,-1), -1)\n",
    "        out = att @ v # (bs, nh, sl, sl) x (bs, nh, sl, dh) -> (bs, nh, sl, dh)\n",
    "        out = out.transpose(1, 2).contiguous().view(bs, seq_len, d) # back to original shape\n",
    "        return self.out(out)"
   ]
  },
  {
   "cell_type": "code",
   "execution_count": null,
   "metadata": {
    "colab": {
     "base_uri": "https://localhost:8080/",
     "height": 225
    },
    "hidden": true,
    "id": "d665_-UYsshY",
    "outputId": "f0006ee6-2895-4488-be65-10c163ceb220"
   },
   "outputs": [
    {
     "data": {
      "text/html": [
       "<table border=\"1\" class=\"dataframe\">\n",
       "  <thead>\n",
       "    <tr style=\"text-align: left;\">\n",
       "      <th>epoch</th>\n",
       "      <th>train_loss</th>\n",
       "      <th>valid_loss</th>\n",
       "      <th>accuracy</th>\n",
       "      <th>time</th>\n",
       "    </tr>\n",
       "  </thead>\n",
       "  <tbody>\n",
       "    <tr>\n",
       "      <td>0</td>\n",
       "      <td>1.945255</td>\n",
       "      <td>2.148961</td>\n",
       "      <td>0.362729</td>\n",
       "      <td>00:03</td>\n",
       "    </tr>\n",
       "    <tr>\n",
       "      <td>1</td>\n",
       "      <td>1.576766</td>\n",
       "      <td>2.055920</td>\n",
       "      <td>0.426432</td>\n",
       "      <td>00:03</td>\n",
       "    </tr>\n",
       "    <tr>\n",
       "      <td>2</td>\n",
       "      <td>1.599834</td>\n",
       "      <td>1.934431</td>\n",
       "      <td>0.443784</td>\n",
       "      <td>00:03</td>\n",
       "    </tr>\n",
       "    <tr>\n",
       "      <td>3</td>\n",
       "      <td>1.624774</td>\n",
       "      <td>1.742481</td>\n",
       "      <td>0.460185</td>\n",
       "      <td>00:03</td>\n",
       "    </tr>\n",
       "    <tr>\n",
       "      <td>4</td>\n",
       "      <td>1.615320</td>\n",
       "      <td>1.773680</td>\n",
       "      <td>0.452817</td>\n",
       "      <td>00:03</td>\n",
       "    </tr>\n",
       "  </tbody>\n",
       "</table>"
      ],
      "text/plain": [
       "<IPython.core.display.HTML object>"
      ]
     },
     "metadata": {
      "tags": []
     },
     "output_type": "display_data"
    }
   ],
   "source": [
    "learn = Learner(dls, Model2(len(vocab)), loss_func=CrossEntropyLossFlat(), metrics=accuracy)\n",
    "learn.fit_one_cycle(5, 1e-3)"
   ]
  },
  {
   "cell_type": "markdown",
   "metadata": {
    "hidden": true,
    "id": "DHrDmXQ0sshY"
   },
   "source": [
    "Note that some speedup is observed even on such a tiny dataset and small model."
   ]
  },
  {
   "cell_type": "markdown",
   "metadata": {
    "id": "1lY19YzTsshY"
   },
   "source": [
    "## More signal"
   ]
  },
  {
   "cell_type": "markdown",
   "metadata": {
    "id": "S7WpjpnxsshY"
   },
   "source": [
    "Similarly to the RNN case considered in the book, we can take the next step and create more signal for the model to learn from. To adapt to the modified objective we need to make couple of steps. First let's rearrange data to proper input-target pairs for the new task."
   ]
  },
  {
   "cell_type": "markdown",
   "metadata": {
    "id": "7nKA2px-sshZ"
   },
   "source": [
    "### Arranging data"
   ]
  },
  {
   "cell_type": "markdown",
   "metadata": {
    "id": "ZxyhwqVHssha"
   },
   "source": [
    "Unlike RNN the tranformer is not a stateful model. This means it treats each sequence indepently and can only attend within fixed length context. This limitation was addressed by authors of [Transformer-XL paper](https://arxiv.org/abs/1901.02860) where adding a segment-level recurrence mechanism and a novel positional encoding scheme were proposed to enable capturing long-term dependencies. I will not go into details of TransformerXL architecture here. As we shell see stateless transformer can also learn a lot about the structure of our data.\n",
    "\n",
    "One thing to note in this case is that we don't need to maintain the structure of the data outside of the sequences, so we can shuffle the sequences randomly in the dataloader."
   ]
  },
  {
   "cell_type": "code",
   "execution_count": null,
   "metadata": {
    "colab": {
     "base_uri": "https://localhost:8080/"
    },
    "id": "O3_tjztpssha",
    "outputId": "3c879779-41e1-489d-ecfd-d2bdcb1941bf"
   },
   "outputs": [
    {
     "data": {
      "text/plain": [
       "(torch.Size([64, 16]), torch.Size([64, 16]))"
      ]
     },
     "execution_count": 26,
     "metadata": {
      "tags": []
     },
     "output_type": "execute_result"
    }
   ],
   "source": [
    "sl = 16\n",
    "seqs = L((tensor(nums[i:i+sl]), tensor(nums[i+1:i+sl+1]))\n",
    "         for i in range(0,len(nums)-sl-1,sl))\n",
    "cut = int(len(seqs) * 0.8)\n",
    "dls = DataLoaders.from_dsets(seqs[:cut], seqs[cut:],\n",
    "                             bs=bs, drop_last=True, shuffle=True)\n",
    "xb, yb = dls.one_batch()\n",
    "xb.shape, yb.shape"
   ]
  },
  {
   "cell_type": "code",
   "execution_count": null,
   "metadata": {
    "colab": {
     "base_uri": "https://localhost:8080/"
    },
    "id": "6o8UZeyHssha",
    "outputId": "8c6d96ef-6e8d-4c4d-e98d-725dcf7e186e"
   },
   "outputs": [
    {
     "data": {
      "text/plain": [
       "[(#16) ['one','.','two','.','three','.','four','.','five','.'...],\n",
       " (#16) ['.','two','.','three','.','four','.','five','.','six'...]]"
      ]
     },
     "execution_count": 27,
     "metadata": {
      "tags": []
     },
     "output_type": "execute_result"
    }
   ],
   "source": [
    "[L(vocab[o] for o in s) for s in seqs[0]]"
   ]
  },
  {
   "cell_type": "markdown",
   "metadata": {
    "id": "6S2x1m1Wssha"
   },
   "source": [
    "### Positional encoding"
   ]
  },
  {
   "cell_type": "markdown",
   "metadata": {
    "id": "3W1jUH7Ossha"
   },
   "source": [
    "Before we did average pooling over seq_len dimension. Our model didn't care about the order of the tokens at all. But actually order of the tokens in a sentence matter a lot. In our case `one hundred two` and `two hundred one` are pretty different and `hundred one two` doesn't make sense.\n",
    "\n",
    "To encorporate positional information into the model authors of the transformer architecture proposed to use positional encodings in addition to regular token embeddings. Positional encodings may be learned, but it's also possible to use hardcoded encodings. For instance encodings may be composed of sin and cos.\n",
    "In this way each position in a sequence will get unique vector associated with it."
   ]
  },
  {
   "cell_type": "code",
   "execution_count": null,
   "metadata": {
    "id": "9ozy8DEcsshb"
   },
   "outputs": [],
   "source": [
    "class PositionalEncoding(Module):\n",
    "    def __init__(self, d):\n",
    "        self.register_buffer('freq', 1/(10000 ** (torch.arange(0., d, 2.)/d)))\n",
    "        self.scale = d**0.5\n",
    "    def forward(self, x):\n",
    "        device = x.device\n",
    "        pos_enc = torch.cat([torch.sin(torch.outer(torch.arange(x.size(1), device=device), self.freq)),\n",
    "                             torch.cos(torch.outer(torch.arange(x.size(1), device=device), self.freq))],\n",
    "                            axis=-1)\n",
    "        return x*self.scale + pos_enc"
   ]
  },
  {
   "cell_type": "code",
   "execution_count": null,
   "metadata": {
    "colab": {
     "base_uri": "https://localhost:8080/",
     "height": 285
    },
    "id": "klMWBmezsshc",
    "outputId": "8f14685f-1e7c-4fce-d779-6b8965bedc6c"
   },
   "outputs": [
    {
     "data": {
      "image/png": "[encoded data removed]",
      "text/plain": [
       "<Figure size 1152x288 with 1 Axes>"
      ]
     },
     "metadata": {
      "needs_background": "light",
      "tags": []
     },
     "output_type": "display_data"
    }
   ],
   "source": [
    "#collapse-hide\n",
    "x = torch.zeros(1, 16, 64)\n",
    "encs = PositionalEncoding(64)(x)\n",
    "plt.matshow(encs.squeeze())\n",
    "plt.xlabel('Embedding size')\n",
    "plt.ylabel('Sequence length')\n",
    "plt.show()"
   ]
  },
  {
   "cell_type": "code",
   "execution_count": null,
   "metadata": {
    "id": "7uHvCDrUsshc"
   },
   "outputs": [],
   "source": [
    "class TransformerEmbedding(Module):\n",
    "    def __init__(self, emb_sz, d_model):\n",
    "        self.emb = nn.Embedding(emb_sz, d_model)\n",
    "        self.pos_enc = PositionalEncoding(d_model)\n",
    "    def forward(self, x):\n",
    "        return self.pos_enc(self.emb(x))"
   ]
  },
  {
   "cell_type": "code",
   "execution_count": null,
   "metadata": {
    "id": "vV1QG1bNsshc"
   },
   "outputs": [],
   "source": [
    "class Model3(Module):\n",
    "    def __init__(self, vocab_sz, d_model=64, n_heads=4, d_ff=64*4):\n",
    "        self.emb = TransformerEmbedding(vocab_sz, d_model)\n",
    "        self.attn = MultiHeadAttention(d_model, n_heads)\n",
    "        self.ff = FeedForward(d_model, d_ff)\n",
    "        self.out = nn.Linear(d_model, vocab_sz)\n",
    "    def forward(self, x):\n",
    "        x = self.emb(x)\n",
    "        x = self.ff(self.attn(x))\n",
    "        return self.out(x)"
   ]
  },
  {
   "cell_type": "code",
   "execution_count": null,
   "metadata": {
    "colab": {
     "base_uri": "https://localhost:8080/"
    },
    "id": "W_XC97kXsshc",
    "outputId": "9060542a-4dd9-4d09-962a-9263bac3be73"
   },
   "outputs": [
    {
     "data": {
      "text/plain": [
       "torch.Size([64, 16, 30])"
      ]
     },
     "execution_count": 32,
     "metadata": {
      "tags": []
     },
     "output_type": "execute_result"
    }
   ],
   "source": [
    "model = Model3(len(vocab))\n",
    "out = model(xb)\n",
    "out.shape"
   ]
  },
  {
   "cell_type": "code",
   "execution_count": null,
   "metadata": {
    "id": "MNFf06HTsshd"
   },
   "outputs": [],
   "source": [
    "def loss_func(inp, targ):\n",
    "    return F.cross_entropy(inp.view(-1, len(vocab)), targ.view(-1))"
   ]
  },
  {
   "cell_type": "code",
   "execution_count": null,
   "metadata": {
    "colab": {
     "base_uri": "https://localhost:8080/",
     "height": 225
    },
    "id": "5yL28lWTsshe",
    "outputId": "fd5f3f64-8f73-42a1-d602-0d14ee989a41"
   },
   "outputs": [
    {
     "data": {
      "text/html": [
       "<table border=\"1\" class=\"dataframe\">\n",
       "  <thead>\n",
       "    <tr style=\"text-align: left;\">\n",
       "      <th>epoch</th>\n",
       "      <th>train_loss</th>\n",
       "      <th>valid_loss</th>\n",
       "      <th>accuracy</th>\n",
       "      <th>time</th>\n",
       "    </tr>\n",
       "  </thead>\n",
       "  <tbody>\n",
       "    <tr>\n",
       "      <td>0</td>\n",
       "      <td>2.059098</td>\n",
       "      <td>1.966106</td>\n",
       "      <td>0.244059</td>\n",
       "      <td>00:01</td>\n",
       "    </tr>\n",
       "    <tr>\n",
       "      <td>1</td>\n",
       "      <td>0.996265</td>\n",
       "      <td>0.151726</td>\n",
       "      <td>0.956055</td>\n",
       "      <td>00:01</td>\n",
       "    </tr>\n",
       "    <tr>\n",
       "      <td>2</td>\n",
       "      <td>0.427699</td>\n",
       "      <td>0.078305</td>\n",
       "      <td>0.977865</td>\n",
       "      <td>00:01</td>\n",
       "    </tr>\n",
       "    <tr>\n",
       "      <td>3</td>\n",
       "      <td>0.207902</td>\n",
       "      <td>0.066726</td>\n",
       "      <td>0.976481</td>\n",
       "      <td>00:01</td>\n",
       "    </tr>\n",
       "    <tr>\n",
       "      <td>4</td>\n",
       "      <td>0.116920</td>\n",
       "      <td>0.074462</td>\n",
       "      <td>0.974935</td>\n",
       "      <td>00:01</td>\n",
       "    </tr>\n",
       "  </tbody>\n",
       "</table>"
      ],
      "text/plain": [
       "<IPython.core.display.HTML object>"
      ]
     },
     "metadata": {
      "tags": []
     },
     "output_type": "display_data"
    }
   ],
   "source": [
    "learn = Learner(dls, Model3(len(vocab)), loss_func=loss_func, metrics=accuracy)\n",
    "learn.fit_one_cycle(5, 1e-2)"
   ]
  },
  {
   "cell_type": "markdown",
   "metadata": {
    "id": "8YLUpa3Usshe"
   },
   "source": [
    "Wow! That's a great accuracy! So the problem is solved and we only needed one attention layer and 2 layer deep feed-forward block? Don't you feel somewhat skeptical about this result?\n",
    "\n",
    "Well, you should be! Think about what we did here: the goal was to predict a target sequence, say `['.','two','.','three','.','four']` from an input `['one','.','two','.','three','.']`. These two sequences intersect on all positions except the first and the last one. So models needs to learn simply to copy input tokens starting from the second one to the outputs. In our case this will result in 15 correct predictions of total 16 positions, that's almost 94% accuracy. This makes the task very simple but not very useful to learn. To train proper autoregressive language model, as we did with RNNs, a concept of masking is to be introduced."
   ]
  },
  {
   "cell_type": "markdown",
   "metadata": {
    "id": "tsc046eGsshf"
   },
   "source": [
    "### Causal Masking"
   ]
  },
  {
   "cell_type": "markdown",
   "metadata": {
    "id": "fr3MfMhZsshf"
   },
   "source": [
    "So we want to allow the model for each token to attend only to itself and those prior to it. To acomplish this we can set all the values of attention matrix above the main diagonal to $-\\infty$. After softmax this values will effectively turn to 0 thus disabling attention to the \"future\"."
   ]
  },
  {
   "cell_type": "code",
   "execution_count": null,
   "metadata": {
    "id": "N64vjltmsshf"
   },
   "outputs": [],
   "source": [
    "def get_subsequent_mask(x):\n",
    "    sz = x.size(1)\n",
    "    mask = (torch.triu(torch.ones(sz, sz, device=x.device)) == 1).transpose(0, 1)\n",
    "    mask = mask.float().masked_fill(mask == 0, float('-inf')).masked_fill(mask == 1, float(0.0))\n",
    "    return mask"
   ]
  },
  {
   "cell_type": "code",
   "execution_count": null,
   "metadata": {
    "colab": {
     "base_uri": "https://localhost:8080/",
     "height": 275
    },
    "id": "tTY5tGIEsshf",
    "outputId": "c98212b5-722c-411d-e192-983580d5545b"
   },
   "outputs": [
    {
     "data": {
      "image/png": "[encoded data removed]",
      "text/plain": [
       "<Figure size 288x288 with 1 Axes>"
      ]
     },
     "metadata": {
      "needs_background": "light",
      "tags": []
     },
     "output_type": "display_data"
    }
   ],
   "source": [
    "inp = torch.randn(8, 10, 64)\n",
    "mask = get_subsequent_mask(inp)\n",
    "plt.matshow(mask);"
   ]
  },
  {
   "cell_type": "code",
   "execution_count": null,
   "metadata": {
    "colab": {
     "base_uri": "https://localhost:8080/",
     "height": 275
    },
    "id": "RV_Br0CZsshg",
    "outputId": "beac4266-4373-4207-83c1-f55fe2280447"
   },
   "outputs": [
    {
     "data": {
      "image/png": "[encoded data removed]",
      "text/plain": [
       "<Figure size 288x288 with 1 Axes>"
      ]
     },
     "metadata": {
      "needs_background": "light",
      "tags": []
     },
     "output_type": "display_data"
    }
   ],
   "source": [
    "q, k = torch.rand(1,10,32), torch.randn(1,10,32)\n",
    "att_ = F.softmax((q@k.permute(0,2,1)+mask), -1)\n",
    "plt.matshow(att_[0].detach());"
   ]
  },
  {
   "cell_type": "markdown",
   "metadata": {
    "id": "V6LSGqBtsshg"
   },
   "source": [
    "We should also modify the attention layer to accept mask:"
   ]
  },
  {
   "cell_type": "code",
   "execution_count": null,
   "metadata": {
    "id": "bY93mb8Ysshg"
   },
   "outputs": [],
   "source": [
    "class MultiHeadAttention(Module):\n",
    "    def __init__(self, d_model, n_heads):\n",
    "        assert d_model%n_heads == 0\n",
    "        self.n_heads = n_heads\n",
    "        d_qk, d_v = d_model//n_heads, d_model//n_heads\n",
    "        self.iq = nn.Linear(d_model, d_model, bias=False)\n",
    "        self.ik = nn.Linear(d_model, d_model, bias=False)\n",
    "        self.iv = nn.Linear(d_model, d_model, bias=False)\n",
    "        self.scale = d_qk**-0.5\n",
    "        self.out = nn.Linear(d_model, d_model, bias=False)\n",
    "        \n",
    "    def forward(self, x, mask=None):\n",
    "        bs, seq_len, d = x.size()\n",
    "        mask = ifnone(mask, 0)\n",
    "        q = self.iq(x).view(bs, seq_len, self.n_heads, d//self.n_heads).transpose(1, 2)\n",
    "        k = self.ik(x).view(bs, seq_len, self.n_heads, d//self.n_heads).transpose(1, 2)\n",
    "        v = self.iv(x).view(bs, seq_len, self.n_heads, d//self.n_heads).transpose(1, 2)\n",
    "        q*= self.scale\n",
    "        att = F.softmax(q@k.transpose(-2,-1) + mask, -1)\n",
    "        \n",
    "        out = att @ v # (bs, nh, sl, sl) x (bs, nh, sl, dh) -> (bs, nh, sl, dh)\n",
    "        out = out.transpose(1, 2).contiguous().view(bs, seq_len, d) # back to original shape\n",
    "\n",
    "        return self.out(out)"
   ]
  },
  {
   "cell_type": "code",
   "execution_count": null,
   "metadata": {
    "id": "l5Y3O98Jsshg"
   },
   "outputs": [],
   "source": [
    "class Model4(Module):\n",
    "    def __init__(self, vocab_sz, d_model=64, n_heads=8, d_ff=64*4):\n",
    "        self.emb = TransformerEmbedding(vocab_sz, d_model)\n",
    "        self.attn = MultiHeadAttention(d_model, n_heads)\n",
    "        self.ff = FeedForward(d_model, d_ff)\n",
    "        self.out = nn.Linear(d_model, vocab_sz)\n",
    "    def forward(self, x):\n",
    "        x = self.emb(x)\n",
    "        mask = get_subsequent_mask(x)\n",
    "        x = self.ff(self.attn(x, mask))\n",
    "        return self.out(x)"
   ]
  },
  {
   "cell_type": "code",
   "execution_count": null,
   "metadata": {
    "colab": {
     "base_uri": "https://localhost:8080/",
     "height": 225
    },
    "id": "MnYLew2dsshg",
    "outputId": "ace7fc60-ce93-4418-e2e4-8eb8861396a7"
   },
   "outputs": [
    {
     "data": {
      "text/html": [
       "<table border=\"1\" class=\"dataframe\">\n",
       "  <thead>\n",
       "    <tr style=\"text-align: left;\">\n",
       "      <th>epoch</th>\n",
       "      <th>train_loss</th>\n",
       "      <th>valid_loss</th>\n",
       "      <th>accuracy</th>\n",
       "      <th>time</th>\n",
       "    </tr>\n",
       "  </thead>\n",
       "  <tbody>\n",
       "    <tr>\n",
       "      <td>0</td>\n",
       "      <td>2.399806</td>\n",
       "      <td>2.321602</td>\n",
       "      <td>0.262533</td>\n",
       "      <td>00:01</td>\n",
       "    </tr>\n",
       "    <tr>\n",
       "      <td>1</td>\n",
       "      <td>1.804210</td>\n",
       "      <td>2.251197</td>\n",
       "      <td>0.251709</td>\n",
       "      <td>00:01</td>\n",
       "    </tr>\n",
       "    <tr>\n",
       "      <td>2</td>\n",
       "      <td>1.559652</td>\n",
       "      <td>2.320621</td>\n",
       "      <td>0.282878</td>\n",
       "      <td>00:01</td>\n",
       "    </tr>\n",
       "    <tr>\n",
       "      <td>3</td>\n",
       "      <td>1.426687</td>\n",
       "      <td>2.365385</td>\n",
       "      <td>0.281006</td>\n",
       "      <td>00:01</td>\n",
       "    </tr>\n",
       "    <tr>\n",
       "      <td>4</td>\n",
       "      <td>1.355069</td>\n",
       "      <td>2.430914</td>\n",
       "      <td>0.301025</td>\n",
       "      <td>00:01</td>\n",
       "    </tr>\n",
       "  </tbody>\n",
       "</table>"
      ],
      "text/plain": [
       "<IPython.core.display.HTML object>"
      ]
     },
     "metadata": {
      "tags": []
     },
     "output_type": "display_data"
    }
   ],
   "source": [
    "learn = Learner(dls, Model4(len(vocab)), loss_func=loss_func, metrics=accuracy)\n",
    "learn.fit_one_cycle(5, 3e-3)"
   ]
  },
  {
   "cell_type": "markdown",
   "metadata": {
    "id": "wPCJdBuSsshg"
   },
   "source": [
    "Now we get somewhat lower accuracy, which is expected given that the task has become more difficult. Also training loss is significantly lower than validation loss, which means the model is overfitting. Let's see if the same approaches as was applied to RNNs can help."
   ]
  },
  {
   "cell_type": "markdown",
   "metadata": {
    "id": "CAQ3OO6Usshg"
   },
   "source": [
    "### Multilayer transformer"
   ]
  },
  {
   "cell_type": "markdown",
   "metadata": {
    "id": "PILh_gZisshh"
   },
   "source": [
    "To solve a more difficult task we ussualy need a deeper model. For convenience let's make a TransformerLayer which will combine self-attention and feed-forward blocks."
   ]
  },
  {
   "cell_type": "code",
   "execution_count": null,
   "metadata": {
    "id": "NLb4QS13sshh"
   },
   "outputs": [],
   "source": [
    "class TransformerLayer(Module):\n",
    "    def __init__(self, d_model, n_heads=8, d_ff=None, causal=True):\n",
    "        d_ff = ifnone(d_ff, 4*d_model)\n",
    "        self.attn = MultiHeadAttention(d_model, n_heads)\n",
    "        self.ff = FeedForward(d_model, d_ff)\n",
    "        self.causal = causal\n",
    "    def forward(self, x, mask=None):\n",
    "        if self.causal:\n",
    "            mask = get_subsequent_mask(x)\n",
    "        return self.ff(self.attn(x, mask))"
   ]
  },
  {
   "cell_type": "code",
   "execution_count": null,
   "metadata": {
    "id": "xvtNvRqPsshh"
   },
   "outputs": [],
   "source": [
    "class Model5(Module):\n",
    "    def __init__(self, vocab_sz, d_model=64, n_layer=4, n_heads=8):\n",
    "        self.emb = TransformerEmbedding(vocab_sz, d_model)\n",
    "        self.encoder = nn.Sequential(*[TransformerLayer(d_model, n_heads) for _ in range(n_layer)])\n",
    "        self.out = nn.Linear(d_model, vocab_sz)\n",
    "    def forward(self, x):\n",
    "        x = self.emb(x)\n",
    "        x = self.encoder(x)\n",
    "        return self.out(x)"
   ]
  },
  {
   "cell_type": "code",
   "execution_count": null,
   "metadata": {
    "colab": {
     "base_uri": "https://localhost:8080/",
     "height": 225
    },
    "id": "Ov82rA1Csshh",
    "outputId": "547d5ef2-f13e-4714-c78a-0887dee5e549"
   },
   "outputs": [
    {
     "data": {
      "text/html": [
       "<table border=\"1\" class=\"dataframe\">\n",
       "  <thead>\n",
       "    <tr style=\"text-align: left;\">\n",
       "      <th>epoch</th>\n",
       "      <th>train_loss</th>\n",
       "      <th>valid_loss</th>\n",
       "      <th>accuracy</th>\n",
       "      <th>time</th>\n",
       "    </tr>\n",
       "  </thead>\n",
       "  <tbody>\n",
       "    <tr>\n",
       "      <td>0</td>\n",
       "      <td>2.896548</td>\n",
       "      <td>2.794600</td>\n",
       "      <td>0.151611</td>\n",
       "      <td>00:03</td>\n",
       "    </tr>\n",
       "    <tr>\n",
       "      <td>1</td>\n",
       "      <td>2.790987</td>\n",
       "      <td>2.813897</td>\n",
       "      <td>0.151774</td>\n",
       "      <td>00:03</td>\n",
       "    </tr>\n",
       "    <tr>\n",
       "      <td>2</td>\n",
       "      <td>2.769421</td>\n",
       "      <td>2.791088</td>\n",
       "      <td>0.151774</td>\n",
       "      <td>00:04</td>\n",
       "    </tr>\n",
       "    <tr>\n",
       "      <td>3</td>\n",
       "      <td>2.756661</td>\n",
       "      <td>2.790368</td>\n",
       "      <td>0.151367</td>\n",
       "      <td>00:04</td>\n",
       "    </tr>\n",
       "    <tr>\n",
       "      <td>4</td>\n",
       "      <td>2.748009</td>\n",
       "      <td>2.799597</td>\n",
       "      <td>0.150960</td>\n",
       "      <td>00:04</td>\n",
       "    </tr>\n",
       "  </tbody>\n",
       "</table>"
      ],
      "text/plain": [
       "<IPython.core.display.HTML object>"
      ]
     },
     "metadata": {
      "tags": []
     },
     "output_type": "display_data"
    }
   ],
   "source": [
    "learn = Learner(dls, Model5(len(vocab), n_layer=4), loss_func=loss_func, metrics=accuracy)\n",
    "learn.fit_one_cycle(5, 1e-2)"
   ]
  },
  {
   "cell_type": "markdown",
   "metadata": {
    "id": "NpxQR4jjsshi"
   },
   "source": [
    "That's not good! 4 layer deep Transformer strugles to learn anything. But there are good news, this problem has been already resolved in the original transformer."
   ]
  },
  {
   "cell_type": "markdown",
   "metadata": {
    "id": "Wv7HPuEosshi"
   },
   "source": [
    "### Residual connections and Regularization"
   ]
  },
  {
   "cell_type": "markdown",
   "metadata": {
    "id": "10eLL4WIsshi"
   },
   "source": [
    "If you are familiar with ResNets the proposed solution will not surprise you much. The idea is simple yet very effective. Instead of returning modified output $f(x)$ each transformer sublayer will return $x + f(x)$. This allows the original input to propagate freely through the model. So the model learns not an entirely new representation of $x$ but how to modify $x$ to add some useful information to the original representation.\n",
    "\n",
    "As we modify layers to include the residual connections let's also add some regularization by inserting Dropout layers."
   ]
  },
  {
   "cell_type": "code",
   "execution_count": null,
   "metadata": {
    "id": "-79nUq88sshi"
   },
   "outputs": [],
   "source": [
    "class TransformerEmbedding(Module):\n",
    "    def __init__(self, emb_sz, d_model, p=0.1):\n",
    "        self.emb = Embedding(emb_sz, d_model)\n",
    "        nn.init.trunc_normal_(self.emb.weight, std=d_model**-0.5)\n",
    "        self.pos_enc = PositionalEncoding(d_model)\n",
    "        self.drop = nn.Dropout(p)\n",
    "    def forward(self, x):\n",
    "        return self.drop(self.pos_enc(self.emb(x)))"
   ]
  },
  {
   "cell_type": "markdown",
   "metadata": {
    "id": "SerAuW2ysshj"
   },
   "source": [
    "Another modification is to add layer normalization which is intended to improve learning dynamics of the network by reparametrising data statistics and is generally used in transformer based architectures."
   ]
  },
  {
   "cell_type": "code",
   "execution_count": null,
   "metadata": {
    "id": "mgeMNw5Asshj"
   },
   "outputs": [],
   "source": [
    "class FeedForward(Module):\n",
    "    def __init__(self, d_model, d_ff, p=0.2):\n",
    "        self.lin1 = nn.Linear(d_model, d_ff)\n",
    "        self.lin2 = nn.Linear(d_ff, d_model)\n",
    "        self.act = nn.ReLU()\n",
    "        self.norm = nn.LayerNorm(d_model)\n",
    "        self.drop = nn.Dropout(p)\n",
    "    def forward(self, x):\n",
    "        x = self.norm(x)\n",
    "        out = self.act(self.lin1(x))\n",
    "        out = self.lin2(out)\n",
    "        return x + self.drop(out)"
   ]
  },
  {
   "cell_type": "code",
   "execution_count": null,
   "metadata": {
    "id": "DS9R1cN2sshj"
   },
   "outputs": [],
   "source": [
    "class MultiHeadAttention(Module):\n",
    "    def __init__(self, d_model, n_heads, p=0.1):\n",
    "        assert d_model%n_heads == 0\n",
    "        self.n_heads = n_heads\n",
    "        d_qk, d_v = d_model//n_heads, d_model//n_heads\n",
    "        self.iq = nn.Linear(d_model, d_model, bias=False)\n",
    "        self.ik = nn.Linear(d_model, d_model, bias=False)\n",
    "        self.iv = nn.Linear(d_model, d_model, bias=False)\n",
    "        self.scale = d_qk**0.5\n",
    "        self.out = nn.Linear(d_model, d_model, bias=False)\n",
    "        self.norm = nn.LayerNorm(d_model)\n",
    "        self.drop = nn.Dropout(p)\n",
    "    def forward(self, x, mask=None):\n",
    "        bs, seq_len, d = x.size()\n",
    "        mask = ifnone(mask, 0)\n",
    "        x = self.norm(x)\n",
    "        k = self.ik(x).view(bs, seq_len, self.n_heads, d//self.n_heads).transpose(1, 2)\n",
    "        q = self.iq(x).view(bs, seq_len, self.n_heads, d//self.n_heads).transpose(1, 2)\n",
    "        v = self.iv(x).view(bs, seq_len, self.n_heads, d//self.n_heads).transpose(1, 2)\n",
    "        att = F.softmax(q@k.transpose(-2,-1)/self.scale + mask, -1)\n",
    "        \n",
    "        out = att @ v # (bs, nh, sl, sl) x (bs, nh, sl, dh) -> (bs, nh, sl, dh)\n",
    "        out = out.transpose(1, 2).contiguous().view(bs, seq_len, d) # back to original shape\n",
    "\n",
    "        return x + self.drop(self.out(out))"
   ]
  },
  {
   "cell_type": "code",
   "execution_count": null,
   "metadata": {
    "id": "DARh44I_sshj"
   },
   "outputs": [],
   "source": [
    "class TransformerLayer(Module):\n",
    "    def __init__(self, d_model, n_heads=8, d_ff=None, causal=True,\n",
    "                 p_att=0.1, p_ff=0.1):\n",
    "        d_ff = ifnone(d_ff, 4*d_model)\n",
    "        self.attn = MultiHeadAttention(d_model, n_heads)\n",
    "        self.ff = FeedForward(d_model, d_ff, p=p_ff)\n",
    "        self.causal = causal\n",
    "        self._init()\n",
    "    def forward(self, x, mask=None):\n",
    "        if self.causal:\n",
    "            mask = get_subsequent_mask(x)\n",
    "        return self.ff(self.attn(x, mask))\n",
    "    def _init(self):\n",
    "        for p in self.parameters():\n",
    "            if p.dim()>1: nn.init.xavier_uniform_(p)"
   ]
  },
  {
   "cell_type": "code",
   "execution_count": null,
   "metadata": {
    "id": "oA-CYHUtsshk"
   },
   "outputs": [],
   "source": [
    "class Model6(Module):\n",
    "    def __init__(self, vocab_sz, d_model=64, n_layer=4, n_heads=8, \n",
    "                 p_emb=0.1, p_att=0.1, p_ff=0.2, tie_weights=True):\n",
    "        self.emb = TransformerEmbedding(vocab_sz, d_model, p=p_emb)\n",
    "        self.encoder = nn.Sequential(*[TransformerLayer(d_model, n_heads,\n",
    "                                                     p_att=p_att, p_ff=p_ff)\n",
    "                                    for _ in range(n_layer)],\n",
    "                                    nn.LayerNorm(d_model))\n",
    "        self.out = nn.Linear(d_model, vocab_sz)\n",
    "        if tie_weights: self.out.weight = self.emb.emb.weight\n",
    "    def forward(self, x):\n",
    "        x = self.emb(x)\n",
    "        x = self.encoder(x)\n",
    "        return self.out(x)"
   ]
  },
  {
   "cell_type": "code",
   "execution_count": null,
   "metadata": {
    "colab": {
     "base_uri": "https://localhost:8080/",
     "height": 329
    },
    "id": "NZhZI7e_sshk",
    "outputId": "00886c0b-26fd-4a8e-a0ed-d2e79e707de6"
   },
   "outputs": [
    {
     "data": {
      "text/html": [
       "<table border=\"1\" class=\"dataframe\">\n",
       "  <thead>\n",
       "    <tr style=\"text-align: left;\">\n",
       "      <th>epoch</th>\n",
       "      <th>train_loss</th>\n",
       "      <th>valid_loss</th>\n",
       "      <th>accuracy</th>\n",
       "      <th>time</th>\n",
       "    </tr>\n",
       "  </thead>\n",
       "  <tbody>\n",
       "    <tr>\n",
       "      <td>0</td>\n",
       "      <td>2.635322</td>\n",
       "      <td>2.077494</td>\n",
       "      <td>0.193929</td>\n",
       "      <td>00:02</td>\n",
       "    </tr>\n",
       "    <tr>\n",
       "      <td>1</td>\n",
       "      <td>1.751456</td>\n",
       "      <td>1.042653</td>\n",
       "      <td>0.667806</td>\n",
       "      <td>00:02</td>\n",
       "    </tr>\n",
       "    <tr>\n",
       "      <td>2</td>\n",
       "      <td>1.120504</td>\n",
       "      <td>0.743249</td>\n",
       "      <td>0.767822</td>\n",
       "      <td>00:02</td>\n",
       "    </tr>\n",
       "    <tr>\n",
       "      <td>3</td>\n",
       "      <td>0.825433</td>\n",
       "      <td>0.797066</td>\n",
       "      <td>0.733643</td>\n",
       "      <td>00:02</td>\n",
       "    </tr>\n",
       "    <tr>\n",
       "      <td>4</td>\n",
       "      <td>0.687212</td>\n",
       "      <td>0.747418</td>\n",
       "      <td>0.751058</td>\n",
       "      <td>00:02</td>\n",
       "    </tr>\n",
       "    <tr>\n",
       "      <td>5</td>\n",
       "      <td>0.615355</td>\n",
       "      <td>0.815827</td>\n",
       "      <td>0.747233</td>\n",
       "      <td>00:02</td>\n",
       "    </tr>\n",
       "    <tr>\n",
       "      <td>6</td>\n",
       "      <td>0.576437</td>\n",
       "      <td>0.809159</td>\n",
       "      <td>0.751302</td>\n",
       "      <td>00:02</td>\n",
       "    </tr>\n",
       "    <tr>\n",
       "      <td>7</td>\n",
       "      <td>0.557015</td>\n",
       "      <td>0.823612</td>\n",
       "      <td>0.744466</td>\n",
       "      <td>00:02</td>\n",
       "    </tr>\n",
       "  </tbody>\n",
       "</table>"
      ],
      "text/plain": [
       "<IPython.core.display.HTML object>"
      ]
     },
     "metadata": {
      "tags": []
     },
     "output_type": "display_data"
    }
   ],
   "source": [
    "learn = Learner(dls, Model6(len(vocab), n_layer=2), loss_func=loss_func, metrics=accuracy)\n",
    "learn.fit_one_cycle(8, 1e-2)"
   ]
  },
  {
   "cell_type": "markdown",
   "metadata": {
    "id": "BhJJhPm0sshk"
   },
   "source": [
    "## Bonus - Generation example"
   ]
  },
  {
   "cell_type": "code",
   "execution_count": null,
   "metadata": {
    "colab": {
     "base_uri": "https://localhost:8080/"
    },
    "id": "eiWQ3obRJJGb",
    "outputId": "68b05793-136e-4190-a85a-8d2afe3c79ea"
   },
   "outputs": [
    {
     "name": "stdout",
     "output_type": "stream",
     "text": [
      "Mounted at /content/drive\n"
     ]
    }
   ],
   "source": [
    "#hide\n",
    "from google.colab import drive\n",
    "\n",
    "drive.mount('/content/drive')\n",
    "path = Path('/content/drive/MyDrive/char_model')"
   ]
  },
  {
   "cell_type": "markdown",
   "metadata": {
    "id": "YfpGVLJusshk"
   },
   "source": [
    "Learning to predict numbers is great, but let's try something more entertaining. We can train a language model to generate texts. For example let's try to generate some text in style of Lewis Carroll. For this we'll fit a language model on \"Alice in Wonderland\" and \"Through the looking glass\"."
   ]
  },
  {
   "cell_type": "code",
   "execution_count": null,
   "metadata": {
    "id": "Jw0D7mxmsshl"
   },
   "outputs": [],
   "source": [
    "#collapse-hide\n",
    "def parse_txt(fns):\n",
    "    txts = []\n",
    "    for fn in fns:\n",
    "        with open(fn) as f:\n",
    "            tmp = ''\n",
    "            for line in f.readlines():\n",
    "                line = line.strip('\\n')\n",
    "                if line:\n",
    "                    tmp += ' ' + line\n",
    "                elif tmp:\n",
    "                    txts.append(tmp.strip())\n",
    "                    tmp = ''\n",
    "    return txts"
   ]
  },
  {
   "cell_type": "code",
   "execution_count": null,
   "metadata": {
    "id": "7mnVP6BQsshm"
   },
   "outputs": [],
   "source": [
    "texts = parse_txt([path/'11-0.txt', path/'12-0.txt'])"
   ]
  },
  {
   "cell_type": "code",
   "execution_count": null,
   "metadata": {
    "colab": {
     "base_uri": "https://localhost:8080/"
    },
    "id": "gMz1ZbZwsshm",
    "outputId": "bc0ef194-a988-4f38-f9b3-9a2629b6beb1"
   },
   "outputs": [
    {
     "data": {
      "text/plain": [
       "1779"
      ]
     },
     "execution_count": 54,
     "metadata": {
      "tags": []
     },
     "output_type": "execute_result"
    }
   ],
   "source": [
    "len(texts)"
   ]
  },
  {
   "cell_type": "code",
   "execution_count": null,
   "metadata": {
    "colab": {
     "base_uri": "https://localhost:8080/"
    },
    "id": "n5VahB4ksshm",
    "outputId": "4569f1fe-98e4-4106-e6ea-220e127a6544"
   },
   "outputs": [
    {
     "data": {
      "text/plain": [
       "['\\ufeffCHAPTER I. Down the Rabbit-Hole',\n",
       " 'Alice was beginning to get very tired of sitting by her sister on the bank, and of having nothing to do: once or twice she had peeped into the book her sister was reading, but it had no pictures or conversations in it, “and what is the use of a book,” thought Alice “without pictures or conversations?”']"
      ]
     },
     "execution_count": 55,
     "metadata": {
      "tags": []
     },
     "output_type": "execute_result"
    }
   ],
   "source": [
    "texts[0:2]"
   ]
  },
  {
   "cell_type": "code",
   "execution_count": null,
   "metadata": {
    "id": "_BqN4XyzObLT"
   },
   "outputs": [],
   "source": [
    "#collapse-hide\n",
    "class CharTokenizer(Transform):\n",
    "    \"Simple charecter level tokenizer\"\n",
    "    def __init__(self, vocab=None):\n",
    "        self.vocab = ifnone(vocab, ['', 'xxbos', 'xxeos'] + list(string.printable))\n",
    "        self.c2i = defaultdict(int, [(c,i) for i, c in enumerate(self.vocab)])\n",
    "    def encodes(self, s, add_bos=False, add_eos=False):\n",
    "        strt = [self.c2i['xxbos']] if add_bos else []\n",
    "        end = [self.c2i['xxeos']] if add_eos else []\n",
    "        return LMTensorText(strt + [self.c2i[c] for c in s] + end)\n",
    "    def decodes(self, s, remove_special=False):\n",
    "        return TitledStr(''.join([self.decode_one(i) for i in s]))\n",
    "    def decode_one(self, i):\n",
    "        if i == 2: return '\\n'\n",
    "        elif i == 1: return ''\n",
    "        else: return self.vocab[i]\n",
    "    @property\n",
    "    def vocab_sz(self):\n",
    "        return len(self.vocab)\n"
   ]
  },
  {
   "cell_type": "code",
   "execution_count": null,
   "metadata": {
    "id": "X1bLTtE5AVMX"
   },
   "outputs": [],
   "source": [
    "tok = CharTokenizer()"
   ]
  },
  {
   "cell_type": "code",
   "execution_count": null,
   "metadata": {
    "id": "7am4mUFzIVTo"
   },
   "outputs": [],
   "source": [
    "def add_bos_eos(x:list, bos_id=1, eos_id=2):\n",
    "    return [bos_id] + x + [eos_id]"
   ]
  },
  {
   "cell_type": "code",
   "execution_count": null,
   "metadata": {
    "id": "UR8swikDsshn"
   },
   "outputs": [],
   "source": [
    "nums = [add_bos_eos(tok(t.lower()).tolist()) for t in texts]"
   ]
  },
  {
   "cell_type": "code",
   "execution_count": null,
   "metadata": {
    "colab": {
     "base_uri": "https://localhost:8080/"
    },
    "id": "Mo6sLS2Osshn",
    "outputId": "bece15b5-efd6-41c0-d90c-5c294f2a0efa"
   },
   "outputs": [
    {
     "data": {
      "text/plain": [
       "1779"
      ]
     },
     "execution_count": 60,
     "metadata": {
      "tags": []
     },
     "output_type": "execute_result"
    }
   ],
   "source": [
    "len(nums)"
   ]
  },
  {
   "cell_type": "code",
   "execution_count": null,
   "metadata": {
    "id": "Eb9DALvisshn"
   },
   "outputs": [],
   "source": [
    "all_nums = []\n",
    "for n in nums: all_nums.extend(n)"
   ]
  },
  {
   "cell_type": "code",
   "execution_count": null,
   "metadata": {
    "colab": {
     "base_uri": "https://localhost:8080/"
    },
    "id": "VXNIdREpssho",
    "outputId": "04cab237-a396-4afa-f77b-75b002656699"
   },
   "outputs": [
    {
     "data": {
      "text/plain": [
       "[1, 0, 15, 20, 13, 28, 32, 17, 30, 97, 21, 78, 97, 16, 27]"
      ]
     },
     "execution_count": 62,
     "metadata": {
      "tags": []
     },
     "output_type": "execute_result"
    }
   ],
   "source": [
    "all_nums[:15]"
   ]
  },
  {
   "cell_type": "code",
   "execution_count": null,
   "metadata": {
    "colab": {
     "base_uri": "https://localhost:8080/"
    },
    "id": "AIAY-_vbssho",
    "outputId": "c1e96196-2370-4a72-bb66-a659c1524368"
   },
   "outputs": [
    {
     "name": "stdout",
     "output_type": "stream",
     "text": [
      "chapter i. down the rabbit-hole\n",
      "alice was beginning to get very tired of sitting by her sister on\n"
     ]
    }
   ],
   "source": [
    "print(tok.decode(all_nums[:100]))"
   ]
  },
  {
   "cell_type": "code",
   "execution_count": null,
   "metadata": {
    "colab": {
     "base_uri": "https://localhost:8080/"
    },
    "id": "Gog7MW3Rsshp",
    "outputId": "e49dbf8e-8e81-474e-947e-906f21f39433"
   },
   "outputs": [
    {
     "data": {
      "text/plain": [
       "(torch.Size([8, 512]), torch.Size([8, 512]))"
      ]
     },
     "execution_count": 64,
     "metadata": {
      "tags": []
     },
     "output_type": "execute_result"
    }
   ],
   "source": [
    "sl = 512\n",
    "seqs = L((tensor(all_nums[i:i+sl]), tensor(all_nums[i+1:i+sl+1]))\n",
    "         for i in range(0,len(all_nums)-sl-1,sl))\n",
    "cut = int(len(seqs) * 0.8)\n",
    "dls = DataLoaders.from_dsets(seqs[:cut], seqs[cut:], device='cuda',\n",
    "                             bs=8, drop_last=True, shuffle=True)\n",
    "xb, yb = dls.one_batch()\n",
    "xb.shape, yb.shape"
   ]
  },
  {
   "cell_type": "code",
   "execution_count": null,
   "metadata": {
    "colab": {
     "base_uri": "https://localhost:8080/",
     "height": 302
    },
    "id": "8mdKK9iMsshr",
    "outputId": "9852dbb3-34c6-4ed0-9bf1-fa10d4b7a43c"
   },
   "outputs": [
    {
     "data": {
      "text/html": [],
      "text/plain": [
       "<IPython.core.display.HTML object>"
      ]
     },
     "metadata": {
      "tags": []
     },
     "output_type": "display_data"
    },
    {
     "data": {
      "text/plain": [
       "SuggestedLRs(lr_min=0.07585775852203369, lr_steep=0.6309573650360107)"
      ]
     },
     "execution_count": 65,
     "metadata": {
      "tags": []
     },
     "output_type": "execute_result"
    },
    {
     "data": {
      "image/png": "[encoded data removed]",
      "text/plain": [
       "<Figure size 432x288 with 1 Axes>"
      ]
     },
     "metadata": {
      "needs_background": "light",
      "tags": []
     },
     "output_type": "display_data"
    }
   ],
   "source": [
    "model = Model6(tok.vocab_sz, 512, 6, p_emb=0.1, p_ff=0.1, tie_weights=True)\n",
    "learn = Learner(dls, model, loss_func=CrossEntropyLossFlat(), metrics=[accuracy, perplexity]).to_native_fp16()\n",
    "learn.lr_find()"
   ]
  },
  {
   "cell_type": "code",
   "execution_count": null,
   "metadata": {
    "colab": {
     "base_uri": "https://localhost:8080/",
     "height": 1000
    },
    "id": "sMLTtpR-sshr",
    "outputId": "017301bc-5a63-4883-b0a9-ca28dcac71b8"
   },
   "outputs": [
    {
     "data": {
      "text/html": [
       "<table border=\"1\" class=\"dataframe\">\n",
       "  <thead>\n",
       "    <tr style=\"text-align: left;\">\n",
       "      <th>epoch</th>\n",
       "      <th>train_loss</th>\n",
       "      <th>valid_loss</th>\n",
       "      <th>accuracy</th>\n",
       "      <th>perplexity</th>\n",
       "      <th>time</th>\n",
       "    </tr>\n",
       "  </thead>\n",
       "  <tbody>\n",
       "    <tr>\n",
       "      <td>0</td>\n",
       "      <td>3.207689</td>\n",
       "      <td>3.014779</td>\n",
       "      <td>0.187012</td>\n",
       "      <td>20.384583</td>\n",
       "      <td>00:06</td>\n",
       "    </tr>\n",
       "    <tr>\n",
       "      <td>1</td>\n",
       "      <td>2.957462</td>\n",
       "      <td>2.648416</td>\n",
       "      <td>0.258105</td>\n",
       "      <td>14.131640</td>\n",
       "      <td>00:06</td>\n",
       "    </tr>\n",
       "    <tr>\n",
       "      <td>2</td>\n",
       "      <td>2.645952</td>\n",
       "      <td>2.427977</td>\n",
       "      <td>0.287435</td>\n",
       "      <td>11.335924</td>\n",
       "      <td>00:07</td>\n",
       "    </tr>\n",
       "    <tr>\n",
       "      <td>3</td>\n",
       "      <td>2.499318</td>\n",
       "      <td>2.395460</td>\n",
       "      <td>0.292887</td>\n",
       "      <td>10.973244</td>\n",
       "      <td>00:07</td>\n",
       "    </tr>\n",
       "    <tr>\n",
       "      <td>4</td>\n",
       "      <td>2.436253</td>\n",
       "      <td>2.394616</td>\n",
       "      <td>0.288965</td>\n",
       "      <td>10.963985</td>\n",
       "      <td>00:07</td>\n",
       "    </tr>\n",
       "    <tr>\n",
       "      <td>5</td>\n",
       "      <td>2.402833</td>\n",
       "      <td>2.364455</td>\n",
       "      <td>0.295703</td>\n",
       "      <td>10.638234</td>\n",
       "      <td>00:07</td>\n",
       "    </tr>\n",
       "    <tr>\n",
       "      <td>6</td>\n",
       "      <td>2.387243</td>\n",
       "      <td>2.367871</td>\n",
       "      <td>0.290381</td>\n",
       "      <td>10.674637</td>\n",
       "      <td>00:07</td>\n",
       "    </tr>\n",
       "    <tr>\n",
       "      <td>7</td>\n",
       "      <td>2.375951</td>\n",
       "      <td>2.384834</td>\n",
       "      <td>0.285010</td>\n",
       "      <td>10.857258</td>\n",
       "      <td>00:07</td>\n",
       "    </tr>\n",
       "    <tr>\n",
       "      <td>8</td>\n",
       "      <td>2.372440</td>\n",
       "      <td>2.380138</td>\n",
       "      <td>0.276270</td>\n",
       "      <td>10.806398</td>\n",
       "      <td>00:07</td>\n",
       "    </tr>\n",
       "    <tr>\n",
       "      <td>9</td>\n",
       "      <td>2.355436</td>\n",
       "      <td>2.329239</td>\n",
       "      <td>0.305892</td>\n",
       "      <td>10.270120</td>\n",
       "      <td>00:07</td>\n",
       "    </tr>\n",
       "    <tr>\n",
       "      <td>10</td>\n",
       "      <td>2.314718</td>\n",
       "      <td>2.250078</td>\n",
       "      <td>0.331901</td>\n",
       "      <td>9.488480</td>\n",
       "      <td>00:07</td>\n",
       "    </tr>\n",
       "    <tr>\n",
       "      <td>11</td>\n",
       "      <td>2.231658</td>\n",
       "      <td>2.096768</td>\n",
       "      <td>0.385319</td>\n",
       "      <td>8.139816</td>\n",
       "      <td>00:07</td>\n",
       "    </tr>\n",
       "    <tr>\n",
       "      <td>12</td>\n",
       "      <td>2.145322</td>\n",
       "      <td>1.989301</td>\n",
       "      <td>0.413477</td>\n",
       "      <td>7.310425</td>\n",
       "      <td>00:07</td>\n",
       "    </tr>\n",
       "    <tr>\n",
       "      <td>13</td>\n",
       "      <td>1.998541</td>\n",
       "      <td>1.862125</td>\n",
       "      <td>0.444971</td>\n",
       "      <td>6.437402</td>\n",
       "      <td>00:07</td>\n",
       "    </tr>\n",
       "    <tr>\n",
       "      <td>14</td>\n",
       "      <td>1.880289</td>\n",
       "      <td>1.772380</td>\n",
       "      <td>0.465283</td>\n",
       "      <td>5.884840</td>\n",
       "      <td>00:07</td>\n",
       "    </tr>\n",
       "    <tr>\n",
       "      <td>15</td>\n",
       "      <td>1.777548</td>\n",
       "      <td>1.735309</td>\n",
       "      <td>0.482080</td>\n",
       "      <td>5.670681</td>\n",
       "      <td>00:07</td>\n",
       "    </tr>\n",
       "    <tr>\n",
       "      <td>16</td>\n",
       "      <td>1.692429</td>\n",
       "      <td>1.649408</td>\n",
       "      <td>0.501937</td>\n",
       "      <td>5.203897</td>\n",
       "      <td>00:07</td>\n",
       "    </tr>\n",
       "    <tr>\n",
       "      <td>17</td>\n",
       "      <td>1.616076</td>\n",
       "      <td>1.616357</td>\n",
       "      <td>0.513688</td>\n",
       "      <td>5.034715</td>\n",
       "      <td>00:07</td>\n",
       "    </tr>\n",
       "    <tr>\n",
       "      <td>18</td>\n",
       "      <td>1.548247</td>\n",
       "      <td>1.586346</td>\n",
       "      <td>0.522575</td>\n",
       "      <td>4.885864</td>\n",
       "      <td>00:07</td>\n",
       "    </tr>\n",
       "    <tr>\n",
       "      <td>19</td>\n",
       "      <td>1.484927</td>\n",
       "      <td>1.550523</td>\n",
       "      <td>0.532633</td>\n",
       "      <td>4.713936</td>\n",
       "      <td>00:07</td>\n",
       "    </tr>\n",
       "    <tr>\n",
       "      <td>20</td>\n",
       "      <td>1.430124</td>\n",
       "      <td>1.512773</td>\n",
       "      <td>0.543213</td>\n",
       "      <td>4.539303</td>\n",
       "      <td>00:07</td>\n",
       "    </tr>\n",
       "    <tr>\n",
       "      <td>21</td>\n",
       "      <td>1.375972</td>\n",
       "      <td>1.500666</td>\n",
       "      <td>0.545199</td>\n",
       "      <td>4.484674</td>\n",
       "      <td>00:07</td>\n",
       "    </tr>\n",
       "    <tr>\n",
       "      <td>22</td>\n",
       "      <td>1.324876</td>\n",
       "      <td>1.491262</td>\n",
       "      <td>0.552637</td>\n",
       "      <td>4.442699</td>\n",
       "      <td>00:07</td>\n",
       "    </tr>\n",
       "    <tr>\n",
       "      <td>23</td>\n",
       "      <td>1.276637</td>\n",
       "      <td>1.469852</td>\n",
       "      <td>0.557975</td>\n",
       "      <td>4.348590</td>\n",
       "      <td>00:07</td>\n",
       "    </tr>\n",
       "    <tr>\n",
       "      <td>24</td>\n",
       "      <td>1.229700</td>\n",
       "      <td>1.477631</td>\n",
       "      <td>0.560189</td>\n",
       "      <td>4.382551</td>\n",
       "      <td>00:07</td>\n",
       "    </tr>\n",
       "    <tr>\n",
       "      <td>25</td>\n",
       "      <td>1.186633</td>\n",
       "      <td>1.459370</td>\n",
       "      <td>0.562956</td>\n",
       "      <td>4.303250</td>\n",
       "      <td>00:07</td>\n",
       "    </tr>\n",
       "    <tr>\n",
       "      <td>26</td>\n",
       "      <td>1.139820</td>\n",
       "      <td>1.467342</td>\n",
       "      <td>0.564225</td>\n",
       "      <td>4.337692</td>\n",
       "      <td>00:07</td>\n",
       "    </tr>\n",
       "    <tr>\n",
       "      <td>27</td>\n",
       "      <td>1.092420</td>\n",
       "      <td>1.476885</td>\n",
       "      <td>0.566960</td>\n",
       "      <td>4.379283</td>\n",
       "      <td>00:07</td>\n",
       "    </tr>\n",
       "    <tr>\n",
       "      <td>28</td>\n",
       "      <td>1.050866</td>\n",
       "      <td>1.486061</td>\n",
       "      <td>0.567350</td>\n",
       "      <td>4.419652</td>\n",
       "      <td>00:07</td>\n",
       "    </tr>\n",
       "    <tr>\n",
       "      <td>29</td>\n",
       "      <td>1.006091</td>\n",
       "      <td>1.505293</td>\n",
       "      <td>0.568506</td>\n",
       "      <td>4.505473</td>\n",
       "      <td>00:07</td>\n",
       "    </tr>\n",
       "    <tr>\n",
       "      <td>30</td>\n",
       "      <td>0.957875</td>\n",
       "      <td>1.528569</td>\n",
       "      <td>0.567106</td>\n",
       "      <td>4.611572</td>\n",
       "      <td>00:07</td>\n",
       "    </tr>\n",
       "  </tbody>\n",
       "</table>"
      ],
      "text/plain": [
       "<IPython.core.display.HTML object>"
      ]
     },
     "metadata": {
      "tags": []
     },
     "output_type": "display_data"
    },
    {
     "name": "stdout",
     "output_type": "stream",
     "text": [
      "No improvement since epoch 25: early stopping\n"
     ]
    }
   ],
   "source": [
    "#collapse_output\n",
    "learn.fit_one_cycle(50, 5e-4, cbs=EarlyStoppingCallback(patience=5))"
   ]
  },
  {
   "cell_type": "markdown",
   "metadata": {
    "id": "rIkhquVDJS2I"
   },
   "source": [
    "### Text generation\n",
    "\n",
    "Text generation is a big topic on it's own. One can refer to great posts [by Patrick von Platen from HuggingFace](https://huggingface.co/blog/how-to-generate) and [Lilian Weng](https://lilianweng.github.io/lil-log/2021/01/02/controllable-neural-text-generation.html) for more details on various approaches. Here I will use nucleus sampling. This method rallies on sampling from candidates compounding certain value of probability mass. Intuitively this approach should work for character level generation: when there is only one grammatically correct option for continuation we always want to select it, but when starting a new word some diversity in outputs is desirable."
   ]
  },
  {
   "cell_type": "code",
   "execution_count": null,
   "metadata": {
    "id": "SwN6sMhqsshs"
   },
   "outputs": [],
   "source": [
    "#collapse-hide\n",
    "def expand_dim1(x):\n",
    "    if len(x.shape) == 1:\n",
    "        return x[None, :]\n",
    "    else: return x\n",
    "\n",
    "def top_p_filter(logits, top_p=0.9):\n",
    "    sorted_logits, sorted_indices = torch.sort(logits, descending=True)\n",
    "    cum_probs = torch.cumsum(F.softmax(sorted_logits, dim=-1), dim=-1)\n",
    "\n",
    "    sorted_indices_to_remove = cum_probs > top_p\n",
    "    sorted_indices_to_remove[..., 1:] = sorted_indices_to_remove[..., :-1].clone()\n",
    "    sorted_indices_to_remove[..., 0] = 0\n",
    "    indices_to_remove = sorted_indices_to_remove.scatter(1, sorted_indices, sorted_indices_to_remove)\n",
    "    logits[indices_to_remove] = float('-inf')\n",
    "    return logits\n",
    "\n",
    "@torch.no_grad()\n",
    "def generate(model, inp,\n",
    "            max_len=50,\n",
    "            temperature=1.,\n",
    "            top_k = 20,\n",
    "            top_p = 0.9,\n",
    "            early_stopping=False, #need eos_idx to work\n",
    "            eos_idx=None):\n",
    "    model.to(inp.device)\n",
    "    model.eval()\n",
    "    thresh = top_p\n",
    "    inp = expand_dim1(inp)\n",
    "    b, t = inp.shape\n",
    "    out = inp\n",
    "    for _ in range(max_len):\n",
    "        x = out\n",
    "\n",
    "        logits = model(x)[:, -1, :]\n",
    "        filtered_logits = top_p_filter(logits)\n",
    "        probs = F.softmax(filtered_logits / temperature, dim=-1)\n",
    "        sample = torch.multinomial(probs, 1)\n",
    "\n",
    "        out = torch.cat((out, sample), dim=-1)\n",
    "\n",
    "        if early_stopping and (sample == eos_idx).all():\n",
    "            break\n",
    "    return out"
   ]
  },
  {
   "cell_type": "code",
   "execution_count": null,
   "metadata": {
    "id": "mrS9x3desshs"
   },
   "outputs": [],
   "source": [
    "out = generate(learn.model, tok('Alice said '), max_len=200, early_stopping=True, eos_idx=tok.c2i['xxeos'])"
   ]
  },
  {
   "cell_type": "code",
   "execution_count": null,
   "metadata": {
    "colab": {
     "base_uri": "https://localhost:8080/"
    },
    "id": "pf9y-n7Usshs",
    "outputId": "31a00d55-0dc7-48b5-e1cf-fd13033cda1b"
   },
   "outputs": [
    {
     "name": "stdout",
     "output_type": "stream",
     "text": [
      "Alice said in a minute turn, only purind his with it migut at in musible. i cant elp out my why yested it to like thought: i know i did it wish indeed it hope?\n",
      "\n"
     ]
    }
   ],
   "source": [
    "print(tok.decode(out[0]))"
   ]
  },
  {
   "cell_type": "markdown",
   "metadata": {},
   "source": [
    "Our relatively simple model learned to generate mostly grammatically plausible text, but it's not entirely coherent. But it would be too much to ask from the model to learn language from scratch by \"reading\" only two novels (however great those novels are).  To get more from the model let's feed it larger corpus of data."
   ]
  },
  {
   "cell_type": "markdown",
   "metadata": {
    "id": "mlwC--kfKpqa"
   },
   "source": [
    "### Pretraining on larger dataset"
   ]
  },
  {
   "cell_type": "code",
   "execution_count": null,
   "metadata": {
    "colab": {
     "base_uri": "https://localhost:8080/"
    },
    "id": "DPuzCtAQszwS",
    "outputId": "1347266d-3201-4d87-ce69-65352b256f9e"
   },
   "outputs": [
    {
     "name": "stdout",
     "output_type": "stream",
     "text": [
      "\u001b[K     |████████████████████████████████| 163kB 14.0MB/s \n",
      "\u001b[K     |████████████████████████████████| 17.7MB 207kB/s \n",
      "\u001b[K     |████████████████████████████████| 245kB 54.7MB/s \n",
      "\u001b[?25h"
     ]
    }
   ],
   "source": [
    "#hide\n",
    "import sys\n",
    "if 'google.colab' in sys.modules:\n",
    "    !pip install -Uqq datasets\n",
    "\n",
    "from datasets import load_dataset"
   ]
  },
  {
   "cell_type": "markdown",
   "metadata": {},
   "source": [
    "For this purpose I will use a sample from [bookcorpus dataset](https://huggingface.co/datasets/bookcorpus). "
   ]
  },
  {
   "cell_type": "code",
   "execution_count": null,
   "metadata": {
    "colab": {
     "base_uri": "https://localhost:8080/",
     "height": 237,
     "referenced_widgets": [
      "2d2bb02afe8c4309a87354fd7858e864",
      "89f78d2a56c14ceaa6b1ebba54c4feb2",
      "8ecda540586c4760bf94ea3eae0767d2",
      "201aa25469944b0b80c9363fcc4fc95f",
      "298d60fa5cd8441f86187130f3729e73",
      "7977691d32f54349a98abf6008504c3e",
      "fa3423ee18214e89a9ff45554a5a2d21",
      "55f2f9482e3042bf81cb51aa64defd18",
      "0ba48d9e012f457c99d9e050ee66ce19",
      "0ff15dad1c594db7b6ed85b2d4261a63",
      "0a60355694ac41c3bb36988061280cd0",
      "9542a60fecc74375b59c2ef4b667c624",
      "a2628b3a684444b9b3aca1c36e111516",
      "db53b231459c49aa9d8fcef70617ef0b",
      "cbd787e3c17c402299963144601fb8f0",
      "ec9d69f76b464d54ad54fd49738e0420",
      "1f5d679f52bf417dac756ae3e85f864a",
      "cbe70f7f0c7c4bd99bf858a1d72d63c7",
      "4468101700ae4bccb66bba2dd10a13d9",
      "13c5eb342bfd4489b067effccb6d2118",
      "a865a148857c4d1c962381692bd59857",
      "abfe640017214179908de35ea38474ce",
      "493d11cd156a4bfcb2bdc25aa21802fe",
      "9fe8214a7b1941039aadf375b90373f6",
      "0022be0dc7aa4f4f9d947589308153f8",
      "5a0205b7d88a42a68d0f8d40265add8b",
      "b5fe978e2b204b5a986feb53c241d943",
      "f61af757678d40e7b6c470ca779a0e1b",
      "7571cf9691ac419fb79dad6dfaa531d1",
      "febdc99b2c074afb8e1b11aa35e7fcdf",
      "789151104986470ea6b887996b5833b5",
      "2c46976452b8428da3f74d1d37267a55"
     ]
    },
    "id": "kSB3GygHt1om",
    "outputId": "cc02ad34-ee92-4b5a-9e55-5032d4a93e8e"
   },
   "outputs": [
    {
     "data": {
      "application/vnd.jupyter.widget-view+json": {
       "model_id": "2d2bb02afe8c4309a87354fd7858e864",
       "version_major": 2,
       "version_minor": 0
      },
      "text/plain": [
       "HBox(children=(FloatProgress(value=0.0, description='Downloading', max=1689.0, style=ProgressStyle(description…"
      ]
     },
     "metadata": {
      "tags": []
     },
     "output_type": "display_data"
    },
    {
     "name": "stdout",
     "output_type": "stream",
     "text": [
      "\n"
     ]
    },
    {
     "data": {
      "application/vnd.jupyter.widget-view+json": {
       "model_id": "0ba48d9e012f457c99d9e050ee66ce19",
       "version_major": 2,
       "version_minor": 0
      },
      "text/plain": [
       "HBox(children=(FloatProgress(value=0.0, description='Downloading', max=946.0, style=ProgressStyle(description_…"
      ]
     },
     "metadata": {
      "tags": []
     },
     "output_type": "display_data"
    },
    {
     "name": "stdout",
     "output_type": "stream",
     "text": [
      "\n",
      "Downloading and preparing dataset bookcorpus/plain_text (download: 1.10 GiB, generated: 4.52 GiB, post-processed: Unknown size, total: 5.62 GiB) to /root/.cache/huggingface/datasets/bookcorpus/plain_text/1.0.0/af844be26c089fb64810e9f2cd841954fd8bd596d6ddd26326e4c70e2b8c96fc...\n"
     ]
    },
    {
     "data": {
      "application/vnd.jupyter.widget-view+json": {
       "model_id": "1f5d679f52bf417dac756ae3e85f864a",
       "version_major": 2,
       "version_minor": 0
      },
      "text/plain": [
       "HBox(children=(FloatProgress(value=0.0, description='Downloading', max=1179510242.0, style=ProgressStyle(descr…"
      ]
     },
     "metadata": {
      "tags": []
     },
     "output_type": "display_data"
    },
    {
     "name": "stdout",
     "output_type": "stream",
     "text": [
      "\n"
     ]
    },
    {
     "data": {
      "application/vnd.jupyter.widget-view+json": {
       "model_id": "0022be0dc7aa4f4f9d947589308153f8",
       "version_major": 2,
       "version_minor": 0
      },
      "text/plain": [
       "HBox(children=(FloatProgress(value=1.0, bar_style='info', max=1.0), HTML(value='')))"
      ]
     },
     "metadata": {
      "tags": []
     },
     "output_type": "display_data"
    },
    {
     "name": "stdout",
     "output_type": "stream",
     "text": [
      "Dataset bookcorpus downloaded and prepared to /root/.cache/huggingface/datasets/bookcorpus/plain_text/1.0.0/af844be26c089fb64810e9f2cd841954fd8bd596d6ddd26326e4c70e2b8c96fc. Subsequent calls will reuse this data.\n"
     ]
    }
   ],
   "source": [
    "#hide_ouput\n",
    "dataset = load_dataset(\"bookcorpus\", split='train')"
   ]
  },
  {
   "cell_type": "code",
   "execution_count": null,
   "metadata": {
    "colab": {
     "base_uri": "https://localhost:8080/",
     "height": 225
    },
    "id": "XMSG4_7X2kFN",
    "outputId": "20ad4748-8c38-41c3-f1da-bdd86597f8e1"
   },
   "outputs": [
    {
     "data": {
      "text/html": [
       "<div>\n",
       "<style scoped>\n",
       "    .dataframe tbody tr th:only-of-type {\n",
       "        vertical-align: middle;\n",
       "    }\n",
       "\n",
       "    .dataframe tbody tr th {\n",
       "        vertical-align: top;\n",
       "    }\n",
       "\n",
       "    .dataframe thead th {\n",
       "        text-align: right;\n",
       "    }\n",
       "</style>\n",
       "<table border=\"1\" class=\"dataframe\">\n",
       "  <thead>\n",
       "    <tr style=\"text-align: right;\">\n",
       "      <th></th>\n",
       "      <th>text</th>\n",
       "    </tr>\n",
       "  </thead>\n",
       "  <tbody>\n",
       "    <tr>\n",
       "      <th>0</th>\n",
       "      <td>the half-ling book one in the fall of igneeria series kaylee soderburg copyright 2013 kaylee soderburg all rights reserved .</td>\n",
       "    </tr>\n",
       "    <tr>\n",
       "      <th>1</th>\n",
       "      <td>isbn : 1492913731 isbn-13 : 978-1492913733 for my family , who encouraged me to never stop fighting for my dreams chapter 1 summer vacations supposed to be fun , right ?</td>\n",
       "    </tr>\n",
       "    <tr>\n",
       "      <th>2</th>\n",
       "      <td>i wish i had a better answer to that question .</td>\n",
       "    </tr>\n",
       "    <tr>\n",
       "      <th>3</th>\n",
       "      <td>starlings , new york is not the place youd expect much to happen .</td>\n",
       "    </tr>\n",
       "    <tr>\n",
       "      <th>4</th>\n",
       "      <td>its a small quiet town , the kind where everyone knows your name .</td>\n",
       "    </tr>\n",
       "  </tbody>\n",
       "</table>\n",
       "</div>"
      ],
      "text/plain": [
       "                                                                                                                                                                        text\n",
       "0                                               the half-ling book one in the fall of igneeria series kaylee soderburg copyright 2013 kaylee soderburg all rights reserved .\n",
       "1  isbn : 1492913731 isbn-13 : 978-1492913733 for my family , who encouraged me to never stop fighting for my dreams chapter 1 summer vacations supposed to be fun , right ?\n",
       "2                                                                                                                            i wish i had a better answer to that question .\n",
       "3                                                                                                         starlings , new york is not the place youd expect much to happen .\n",
       "4                                                                                                         its a small quiet town , the kind where everyone knows your name ."
      ]
     },
     "execution_count": 65,
     "metadata": {
      "tags": []
     },
     "output_type": "execute_result"
    }
   ],
   "source": [
    "df = pd.DataFrame(dataset[:10_000_000])\n",
    "df.head()"
   ]
  },
  {
   "cell_type": "code",
   "execution_count": null,
   "metadata": {
    "id": "PKU8ohEgGWM5"
   },
   "outputs": [],
   "source": [
    "df['len'] = df['text'].str.len()"
   ]
  },
  {
   "cell_type": "code",
   "execution_count": null,
   "metadata": {
    "id": "7xiHw1ljaESl"
   },
   "outputs": [],
   "source": [
    "cut = int(len(df)*0.8)\n",
    "splits = range_of(df)[:cut], range_of(df[cut:])\n",
    "tfms = Pipeline([ColReader('text'), tok])\n",
    "dsets = Datasets(df, tfms=tfms, dl_type=LMDataLoader, splits=splits)"
   ]
  },
  {
   "cell_type": "code",
   "execution_count": null,
   "metadata": {
    "id": "BAqaPvL479Rn"
   },
   "outputs": [],
   "source": [
    "#collapse\n",
    "@patch\n",
    "def create_item(self:LMDataLoader, seq):\n",
    "    if seq>=self.n: raise IndexError\n",
    "    sl = self.last_len if seq//self.bs==self.n_batches-1 else self.seq_len\n",
    "    st = (seq%self.bs)*self.bl + (seq//self.bs)*self.seq_len\n",
    "    txt = self.chunks[st : st+sl+1]    \n",
    "    return LMTensorText(txt[:-1]),txt[1:]"
   ]
  },
  {
   "cell_type": "code",
   "execution_count": null,
   "metadata": {
    "colab": {
     "base_uri": "https://localhost:8080/"
    },
    "id": "BWHxN6xtq9NF",
    "outputId": "3bfbe27b-749e-44e0-dd40-8ec1a9db0862"
   },
   "outputs": [
    {
     "name": "stdout",
     "output_type": "stream",
     "text": [
      "CPU times: user 13min 29s, sys: 13 s, total: 13min 42s\n",
      "Wall time: 13min 35s\n"
     ]
    }
   ],
   "source": [
    "%%time\n",
    "dl_kwargs = [{'lens':df['len'].values[splits[0]]}, {'val_lens':df['len'].values[splits[1]]}]\n",
    "dls = dsets.dataloaders(bs=32, seq_len=512, dl_kwargs=dl_kwargs, shuffle_train=True, num_workers=2)"
   ]
  },
  {
   "cell_type": "code",
   "execution_count": null,
   "metadata": {
    "colab": {
     "base_uri": "https://localhost:8080/",
     "height": 313
    },
    "id": "SKnflwtnsFaT",
    "outputId": "c2f43ed3-8460-4288-bd4e-1bd68afc2575"
   },
   "outputs": [
    {
     "data": {
      "text/html": [
       "<table border=\"1\" class=\"dataframe\">\n",
       "  <thead>\n",
       "    <tr style=\"text-align: right;\">\n",
       "      <th></th>\n",
       "      <th>text</th>\n",
       "      <th>text_</th>\n",
       "    </tr>\n",
       "  </thead>\n",
       "  <tbody>\n",
       "    <tr>\n",
       "      <th>0</th>\n",
       "      <td>im sorry .`` ah , this is katrice , the rowan queen , coming toward us . ''i said ill tell you !but she still did n't understand why he was a slave here .the sprites had come to believe by now that they were a forgotten people .thats what happened .well have to take him with us for a ways and then let him go .nick stifled the fear in him that was trying to take over .crouching down behind the stone balusters , with every nerve tingling , valeria glared down at the stealthy figure .there did seem to be shado</td>\n",
       "      <td>m sorry .`` ah , this is katrice , the rowan queen , coming toward us . ''i said ill tell you !but she still did n't understand why he was a slave here .the sprites had come to believe by now that they were a forgotten people .thats what happened .well have to take him with us for a ways and then let him go .nick stifled the fear in him that was trying to take over .crouching down behind the stone balusters , with every nerve tingling , valeria glared down at the stealthy figure .there did seem to be shadow</td>\n",
       "    </tr>\n",
       "    <tr>\n",
       "      <th>1</th>\n",
       "      <td>habitants were genuine , hard working , proud and tough .sergeant colon 's view of the world was certainly changing .'we did n't want any part of it , ' the grandfather continued , heedless of his company , 'but maybe that 's just how the rhega are destined to die ... not by our own hands , our own fights .she looked enquiring , but no one took any notice of her .more land would n't save his people-they needed something else .the other got off a single shot of his .45 caliber pistol before he was clawed acr</td>\n",
       "      <td>abitants were genuine , hard working , proud and tough .sergeant colon 's view of the world was certainly changing .'we did n't want any part of it , ' the grandfather continued , heedless of his company , 'but maybe that 's just how the rhega are destined to die ... not by our own hands , our own fights .she looked enquiring , but no one took any notice of her .more land would n't save his people-they needed something else .the other got off a single shot of his .45 caliber pistol before he was clawed acro</td>\n",
       "    </tr>\n",
       "  </tbody>\n",
       "</table>"
      ],
      "text/plain": [
       "<IPython.core.display.HTML object>"
      ]
     },
     "metadata": {
      "tags": []
     },
     "output_type": "display_data"
    }
   ],
   "source": [
    "dls.show_batch(max_n=2)"
   ]
  },
  {
   "cell_type": "code",
   "execution_count": null,
   "metadata": {
    "colab": {
     "base_uri": "https://localhost:8080/",
     "height": 302
    },
    "id": "HdEyccfops-k",
    "outputId": "8c15043d-2aee-47d1-a46d-bae586292adf"
   },
   "outputs": [
    {
     "data": {
      "text/html": [],
      "text/plain": [
       "<IPython.core.display.HTML object>"
      ]
     },
     "metadata": {
      "tags": []
     },
     "output_type": "display_data"
    },
    {
     "data": {
      "text/plain": [
       "SuggestedLRs(lr_min=0.06309573650360108, lr_steep=0.5248074531555176)"
      ]
     },
     "execution_count": 71,
     "metadata": {
      "tags": []
     },
     "output_type": "execute_result"
    },
    {
     "data": {
      "image/png": "[encoded data removed]",
      "text/plain": [
       "<Figure size 432x288 with 1 Axes>"
      ]
     },
     "metadata": {
      "needs_background": "light",
      "tags": []
     },
     "output_type": "display_data"
    }
   ],
   "source": [
    "model = Model6(tok.vocab_sz, 512, 8, p_emb=0.1, p_ff=0.1, tie_weights=True)\n",
    "learn = Learner(dls, model, loss_func=CrossEntropyLossFlat(), metrics=[accuracy, perplexity]).to_native_fp16()\n",
    "learn.lr_find()"
   ]
  },
  {
   "cell_type": "code",
   "execution_count": null,
   "metadata": {
    "colab": {
     "base_uri": "https://localhost:8080/"
    },
    "id": "VHM-Re1EJhIi",
    "outputId": "8fbea906-d9ac-47af-cc8e-a3a470d7909a"
   },
   "outputs": [
    {
     "data": {
      "text/plain": [
       "<fastai.learner.Learner at 0x7fa5a807e0f0>"
      ]
     },
     "execution_count": 72,
     "metadata": {
      "tags": []
     },
     "output_type": "execute_result"
    }
   ],
   "source": [
    "learn = learn.load(path/'char_bookcorpus_10m')"
   ]
  },
  {
   "cell_type": "code",
   "execution_count": null,
   "metadata": {
    "colab": {
     "base_uri": "https://localhost:8080/",
     "height": 87
    },
    "id": "6Dluttl_PRb4",
    "outputId": "b6f169fb-5d48-4a03-891d-a808272e7cd9"
   },
   "outputs": [
    {
     "data": {
      "text/html": [
       "<table border=\"1\" class=\"dataframe\">\n",
       "  <thead>\n",
       "    <tr style=\"text-align: left;\">\n",
       "      <th>epoch</th>\n",
       "      <th>train_loss</th>\n",
       "      <th>valid_loss</th>\n",
       "      <th>accuracy</th>\n",
       "      <th>perplexity</th>\n",
       "      <th>time</th>\n",
       "    </tr>\n",
       "  </thead>\n",
       "  <tbody>\n",
       "    <tr>\n",
       "      <td>0</td>\n",
       "      <td>1.065701</td>\n",
       "      <td>1.064358</td>\n",
       "      <td>0.667121</td>\n",
       "      <td>2.898976</td>\n",
       "      <td>4:23:52</td>\n",
       "    </tr>\n",
       "  </tbody>\n",
       "</table>"
      ],
      "text/plain": [
       "<IPython.core.display.HTML object>"
      ]
     },
     "metadata": {
      "tags": []
     },
     "output_type": "display_data"
    }
   ],
   "source": [
    "learn.fit_one_cycle(1, 1e-4)"
   ]
  },
  {
   "cell_type": "code",
   "execution_count": null,
   "metadata": {
    "colab": {
     "base_uri": "https://localhost:8080/"
    },
    "id": "_4dknAAELfJs",
    "outputId": "ec915db9-e669-46ff-dad2-cddb044e9d8a"
   },
   "outputs": [
    {
     "data": {
      "text/plain": [
       "Path('/content/drive/MyDrive/char_model/char_bookcorpus_10m.pth')"
      ]
     },
     "execution_count": 74,
     "metadata": {
      "tags": []
     },
     "output_type": "execute_result"
    }
   ],
   "source": [
    "learn.save(path/'char_bookcorpus_10m')"
   ]
  },
  {
   "cell_type": "markdown",
   "metadata": {
    "id": "asOLDrwgPdUT"
   },
   "source": [
    "### Finetune on Carrolls' books\n",
    "\n",
    "Finally we can finetune the pretrained bookcorpus model on Carroll's books. This will determine the style of generated text."
   ]
  },
  {
   "cell_type": "code",
   "execution_count": null,
   "metadata": {
    "id": "Z1KYZykgLoKg"
   },
   "outputs": [],
   "source": [
    "sl = 512\n",
    "seqs = L((tensor(all_nums[i:i+sl]), tensor(all_nums[i+1:i+sl+1]))\n",
    "         for i in range(0,len(all_nums)-sl-1,sl))\n",
    "cut = int(len(seqs) * 0.8)\n",
    "dls = DataLoaders.from_dsets(seqs[:cut], seqs[cut:], device='cuda',\n",
    "                             bs=16, drop_last=True, shuffle=True)"
   ]
  },
  {
   "cell_type": "code",
   "execution_count": null,
   "metadata": {
    "id": "FPsgcxwfFaDU"
   },
   "outputs": [],
   "source": [
    "model = Model6(tok.vocab_sz, 512, 8, p_emb=0.1, p_ff=0.1, tie_weights=True)\n",
    "learn = Learner(dls, model, loss_func=CrossEntropyLossFlat(), metrics=[accuracy, perplexity]).to_native_fp16()"
   ]
  },
  {
   "cell_type": "code",
   "execution_count": null,
   "metadata": {
    "colab": {
     "base_uri": "https://localhost:8080/",
     "height": 303
    },
    "id": "DBKwx9A5LoC7",
    "outputId": "7f1901ab-4932-464f-b3a4-028e67447a6a"
   },
   "outputs": [
    {
     "data": {
      "text/html": [],
      "text/plain": [
       "<IPython.core.display.HTML object>"
      ]
     },
     "metadata": {
      "tags": []
     },
     "output_type": "display_data"
    },
    {
     "data": {
      "text/plain": [
       "SuggestedLRs(lr_min=0.03019951581954956, lr_steep=0.25118863582611084)"
      ]
     },
     "execution_count": 74,
     "metadata": {
      "tags": []
     },
     "output_type": "execute_result"
    },
    {
     "data": {
      "image/png": "[encoded data removed]",
      "text/plain": [
       "<Figure size 432x288 with 1 Axes>"
      ]
     },
     "metadata": {
      "needs_background": "light",
      "tags": []
     },
     "output_type": "display_data"
    }
   ],
   "source": [
    "learn = learn.load(path/'char_bookcorpus_10m')\n",
    "learn.lr_find()"
   ]
  },
  {
   "cell_type": "code",
   "execution_count": null,
   "metadata": {
    "colab": {
     "base_uri": "https://localhost:8080/",
     "height": 398
    },
    "id": "3OUpAAMVF7Nx",
    "outputId": "4fd1e032-fff5-47d1-80af-5cbd56e415c7"
   },
   "outputs": [
    {
     "data": {
      "text/html": [
       "<table border=\"1\" class=\"dataframe\">\n",
       "  <thead>\n",
       "    <tr style=\"text-align: left;\">\n",
       "      <th>epoch</th>\n",
       "      <th>train_loss</th>\n",
       "      <th>valid_loss</th>\n",
       "      <th>accuracy</th>\n",
       "      <th>perplexity</th>\n",
       "      <th>time</th>\n",
       "    </tr>\n",
       "  </thead>\n",
       "  <tbody>\n",
       "    <tr>\n",
       "      <td>0</td>\n",
       "      <td>1.744969</td>\n",
       "      <td>1.472124</td>\n",
       "      <td>0.618443</td>\n",
       "      <td>4.358481</td>\n",
       "      <td>00:08</td>\n",
       "    </tr>\n",
       "    <tr>\n",
       "      <td>1</td>\n",
       "      <td>1.442924</td>\n",
       "      <td>1.128739</td>\n",
       "      <td>0.658796</td>\n",
       "      <td>3.091756</td>\n",
       "      <td>00:08</td>\n",
       "    </tr>\n",
       "    <tr>\n",
       "      <td>2</td>\n",
       "      <td>1.248169</td>\n",
       "      <td>1.068535</td>\n",
       "      <td>0.670881</td>\n",
       "      <td>2.911111</td>\n",
       "      <td>00:08</td>\n",
       "    </tr>\n",
       "    <tr>\n",
       "      <td>3</td>\n",
       "      <td>1.134621</td>\n",
       "      <td>1.048366</td>\n",
       "      <td>0.675764</td>\n",
       "      <td>2.852986</td>\n",
       "      <td>00:08</td>\n",
       "    </tr>\n",
       "    <tr>\n",
       "      <td>4</td>\n",
       "      <td>1.058302</td>\n",
       "      <td>1.044972</td>\n",
       "      <td>0.678554</td>\n",
       "      <td>2.843319</td>\n",
       "      <td>00:08</td>\n",
       "    </tr>\n",
       "    <tr>\n",
       "      <td>5</td>\n",
       "      <td>1.004934</td>\n",
       "      <td>1.036241</td>\n",
       "      <td>0.680333</td>\n",
       "      <td>2.818603</td>\n",
       "      <td>00:08</td>\n",
       "    </tr>\n",
       "    <tr>\n",
       "      <td>6</td>\n",
       "      <td>0.966509</td>\n",
       "      <td>1.042076</td>\n",
       "      <td>0.679461</td>\n",
       "      <td>2.835096</td>\n",
       "      <td>00:08</td>\n",
       "    </tr>\n",
       "    <tr>\n",
       "      <td>7</td>\n",
       "      <td>0.938987</td>\n",
       "      <td>1.040590</td>\n",
       "      <td>0.680507</td>\n",
       "      <td>2.830886</td>\n",
       "      <td>00:08</td>\n",
       "    </tr>\n",
       "    <tr>\n",
       "      <td>8</td>\n",
       "      <td>0.920266</td>\n",
       "      <td>1.035050</td>\n",
       "      <td>0.681728</td>\n",
       "      <td>2.815248</td>\n",
       "      <td>00:08</td>\n",
       "    </tr>\n",
       "    <tr>\n",
       "      <td>9</td>\n",
       "      <td>0.907935</td>\n",
       "      <td>1.037062</td>\n",
       "      <td>0.681257</td>\n",
       "      <td>2.820917</td>\n",
       "      <td>00:08</td>\n",
       "    </tr>\n",
       "  </tbody>\n",
       "</table>"
      ],
      "text/plain": [
       "<IPython.core.display.HTML object>"
      ]
     },
     "metadata": {
      "tags": []
     },
     "output_type": "display_data"
    }
   ],
   "source": [
    "learn.fit_one_cycle(10, 1e-4)"
   ]
  },
  {
   "cell_type": "markdown",
   "metadata": {},
   "source": [
    "As you see pretraining model on large corpus followed by finetuning helped to reduce validation loss from arount 1.53 to 1.037 and improve accuracy in predicting next character to 68% (compared to 56.7% before). Let's see how it effects sampled text:"
   ]
  },
  {
   "cell_type": "code",
   "execution_count": null,
   "metadata": {
    "id": "S1znWGrSGdBi"
   },
   "outputs": [],
   "source": [
    "out = generate(learn.model, tok('Alice said '), max_len=200, early_stopping=True, eos_idx=tok.c2i['xxeos'])"
   ]
  },
  {
   "cell_type": "code",
   "execution_count": null,
   "metadata": {
    "colab": {
     "base_uri": "https://localhost:8080/"
    },
    "id": "g58gqpjSGdBn",
    "outputId": "fa861c38-f437-490e-bd86-625e338e4366"
   },
   "outputs": [
    {
     "name": "stdout",
     "output_type": "stream",
     "text": [
      "Alice said what you want is, why, if you cant see a little rather from people to bed their moment, when birds began drinking from behind, and offering the cart to say something, and dripping off a strange mou\n"
     ]
    }
   ],
   "source": [
    "#collapse-hide\n",
    "print(tok.decode(out[0]))"
   ]
  },
  {
   "cell_type": "code",
   "execution_count": null,
   "metadata": {
    "colab": {
     "base_uri": "https://localhost:8080/"
    },
    "id": "4E3SG-5uGWHD",
    "outputId": "9e984d1d-a21b-46e1-f5f5-381103124cba"
   },
   "outputs": [
    {
     "data": {
      "text/plain": [
       "Path('/content/drive/MyDrive/char_model/char_alice.pth')"
      ]
     },
     "execution_count": 80,
     "metadata": {
      "tags": []
     },
     "output_type": "execute_result"
    }
   ],
   "source": [
    "#hide\n",
    "learn.save(path/'char_alice')"
   ]
  },
  {
   "cell_type": "code",
   "execution_count": null,
   "metadata": {
    "id": "ZDKztD0VKor4"
   },
   "outputs": [],
   "source": []
  }
 ],
 "metadata": {
  "accelerator": "GPU",
  "colab": {
   "collapsed_sections": [],
   "name": "fastbook_12_transformer.ipynb",
   "provenance": [],
   "toc_visible": true
  },
  "kernelspec": {
   "display_name": "Python 3",
   "language": "python",
   "name": "python3"
  },
  "language_info": {
   "codemirror_mode": {
    "name": "ipython",
    "version": 3
   },
   "file_extension": ".py",
   "mimetype": "text/x-python",
   "name": "python",
   "nbconvert_exporter": "python",
   "pygments_lexer": "ipython3",
   "version": "3.8.10"
  },
  "toc": {
   "base_numbering": 1,
   "nav_menu": {},
   "number_sections": true,
   "sideBar": true,
   "skip_h1_title": false,
   "title_cell": "Table of Contents",
   "title_sidebar": "Contents",
   "toc_cell": false,
   "toc_position": {},
   "toc_section_display": true,
   "toc_window_display": false
  },
  "toc-showcode": false,
  "toc-showmarkdowntxt": false,
  "widgets": {
   "application/vnd.jupyter.widget-state+json": {
    "0022be0dc7aa4f4f9d947589308153f8": {
     "model_module": "@jupyter-widgets/controls",
     "model_name": "HBoxModel",
     "state": {
      "_dom_classes": [],
      "_model_module": "@jupyter-widgets/controls",
      "_model_module_version": "1.5.0",
      "_model_name": "HBoxModel",
      "_view_count": null,
      "_view_module": "@jupyter-widgets/controls",
      "_view_module_version": "1.5.0",
      "_view_name": "HBoxView",
      "box_style": "",
      "children": [
       "IPY_MODEL_b5fe978e2b204b5a986feb53c241d943",
       "IPY_MODEL_f61af757678d40e7b6c470ca779a0e1b"
      ],
      "layout": "IPY_MODEL_5a0205b7d88a42a68d0f8d40265add8b"
     }
    },
    "0a60355694ac41c3bb36988061280cd0": {
     "model_module": "@jupyter-widgets/controls",
     "model_name": "FloatProgressModel",
     "state": {
      "_dom_classes": [],
      "_model_module": "@jupyter-widgets/controls",
      "_model_module_version": "1.5.0",
      "_model_name": "FloatProgressModel",
      "_view_count": null,
      "_view_module": "@jupyter-widgets/controls",
      "_view_module_version": "1.5.0",
      "_view_name": "ProgressView",
      "bar_style": "success",
      "description": "Downloading: ",
      "description_tooltip": null,
      "layout": "IPY_MODEL_db53b231459c49aa9d8fcef70617ef0b",
      "max": 946,
      "min": 0,
      "orientation": "horizontal",
      "style": "IPY_MODEL_a2628b3a684444b9b3aca1c36e111516",
      "value": 946
     }
    },
    "0ba48d9e012f457c99d9e050ee66ce19": {
     "model_module": "@jupyter-widgets/controls",
     "model_name": "HBoxModel",
     "state": {
      "_dom_classes": [],
      "_model_module": "@jupyter-widgets/controls",
      "_model_module_version": "1.5.0",
      "_model_name": "HBoxModel",
      "_view_count": null,
      "_view_module": "@jupyter-widgets/controls",
      "_view_module_version": "1.5.0",
      "_view_name": "HBoxView",
      "box_style": "",
      "children": [
       "IPY_MODEL_0a60355694ac41c3bb36988061280cd0",
       "IPY_MODEL_9542a60fecc74375b59c2ef4b667c624"
      ],
      "layout": "IPY_MODEL_0ff15dad1c594db7b6ed85b2d4261a63"
     }
    },
    "0ff15dad1c594db7b6ed85b2d4261a63": {
     "model_module": "@jupyter-widgets/base",
     "model_name": "LayoutModel",
     "state": {
      "_model_module": "@jupyter-widgets/base",
      "_model_module_version": "1.2.0",
      "_model_name": "LayoutModel",
      "_view_count": null,
      "_view_module": "@jupyter-widgets/base",
      "_view_module_version": "1.2.0",
      "_view_name": "LayoutView",
      "align_content": null,
      "align_items": null,
      "align_self": null,
      "border": null,
      "bottom": null,
      "display": null,
      "flex": null,
      "flex_flow": null,
      "grid_area": null,
      "grid_auto_columns": null,
      "grid_auto_flow": null,
      "grid_auto_rows": null,
      "grid_column": null,
      "grid_gap": null,
      "grid_row": null,
      "grid_template_areas": null,
      "grid_template_columns": null,
      "grid_template_rows": null,
      "height": null,
      "justify_content": null,
      "justify_items": null,
      "left": null,
      "margin": null,
      "max_height": null,
      "max_width": null,
      "min_height": null,
      "min_width": null,
      "object_fit": null,
      "object_position": null,
      "order": null,
      "overflow": null,
      "overflow_x": null,
      "overflow_y": null,
      "padding": null,
      "right": null,
      "top": null,
      "visibility": null,
      "width": null
     }
    },
    "13c5eb342bfd4489b067effccb6d2118": {
     "model_module": "@jupyter-widgets/controls",
     "model_name": "HTMLModel",
     "state": {
      "_dom_classes": [],
      "_model_module": "@jupyter-widgets/controls",
      "_model_module_version": "1.5.0",
      "_model_name": "HTMLModel",
      "_view_count": null,
      "_view_module": "@jupyter-widgets/controls",
      "_view_module_version": "1.5.0",
      "_view_name": "HTMLView",
      "description": "",
      "description_tooltip": null,
      "layout": "IPY_MODEL_9fe8214a7b1941039aadf375b90373f6",
      "placeholder": "​",
      "style": "IPY_MODEL_493d11cd156a4bfcb2bdc25aa21802fe",
      "value": " 1.18G/1.18G [03:47&lt;00:00, 5.19MB/s]"
     }
    },
    "1f5d679f52bf417dac756ae3e85f864a": {
     "model_module": "@jupyter-widgets/controls",
     "model_name": "HBoxModel",
     "state": {
      "_dom_classes": [],
      "_model_module": "@jupyter-widgets/controls",
      "_model_module_version": "1.5.0",
      "_model_name": "HBoxModel",
      "_view_count": null,
      "_view_module": "@jupyter-widgets/controls",
      "_view_module_version": "1.5.0",
      "_view_name": "HBoxView",
      "box_style": "",
      "children": [
       "IPY_MODEL_4468101700ae4bccb66bba2dd10a13d9",
       "IPY_MODEL_13c5eb342bfd4489b067effccb6d2118"
      ],
      "layout": "IPY_MODEL_cbe70f7f0c7c4bd99bf858a1d72d63c7"
     }
    },
    "201aa25469944b0b80c9363fcc4fc95f": {
     "model_module": "@jupyter-widgets/controls",
     "model_name": "HTMLModel",
     "state": {
      "_dom_classes": [],
      "_model_module": "@jupyter-widgets/controls",
      "_model_module_version": "1.5.0",
      "_model_name": "HTMLModel",
      "_view_count": null,
      "_view_module": "@jupyter-widgets/controls",
      "_view_module_version": "1.5.0",
      "_view_name": "HTMLView",
      "description": "",
      "description_tooltip": null,
      "layout": "IPY_MODEL_55f2f9482e3042bf81cb51aa64defd18",
      "placeholder": "​",
      "style": "IPY_MODEL_fa3423ee18214e89a9ff45554a5a2d21",
      "value": " 3.49k/? [07:00&lt;00:00, 8.30B/s]"
     }
    },
    "298d60fa5cd8441f86187130f3729e73": {
     "model_module": "@jupyter-widgets/controls",
     "model_name": "ProgressStyleModel",
     "state": {
      "_model_module": "@jupyter-widgets/controls",
      "_model_module_version": "1.5.0",
      "_model_name": "ProgressStyleModel",
      "_view_count": null,
      "_view_module": "@jupyter-widgets/base",
      "_view_module_version": "1.2.0",
      "_view_name": "StyleView",
      "bar_color": null,
      "description_width": "initial"
     }
    },
    "2c46976452b8428da3f74d1d37267a55": {
     "model_module": "@jupyter-widgets/base",
     "model_name": "LayoutModel",
     "state": {
      "_model_module": "@jupyter-widgets/base",
      "_model_module_version": "1.2.0",
      "_model_name": "LayoutModel",
      "_view_count": null,
      "_view_module": "@jupyter-widgets/base",
      "_view_module_version": "1.2.0",
      "_view_name": "LayoutView",
      "align_content": null,
      "align_items": null,
      "align_self": null,
      "border": null,
      "bottom": null,
      "display": null,
      "flex": null,
      "flex_flow": null,
      "grid_area": null,
      "grid_auto_columns": null,
      "grid_auto_flow": null,
      "grid_auto_rows": null,
      "grid_column": null,
      "grid_gap": null,
      "grid_row": null,
      "grid_template_areas": null,
      "grid_template_columns": null,
      "grid_template_rows": null,
      "height": null,
      "justify_content": null,
      "justify_items": null,
      "left": null,
      "margin": null,
      "max_height": null,
      "max_width": null,
      "min_height": null,
      "min_width": null,
      "object_fit": null,
      "object_position": null,
      "order": null,
      "overflow": null,
      "overflow_x": null,
      "overflow_y": null,
      "padding": null,
      "right": null,
      "top": null,
      "visibility": null,
      "width": null
     }
    },
    "2d2bb02afe8c4309a87354fd7858e864": {
     "model_module": "@jupyter-widgets/controls",
     "model_name": "HBoxModel",
     "state": {
      "_dom_classes": [],
      "_model_module": "@jupyter-widgets/controls",
      "_model_module_version": "1.5.0",
      "_model_name": "HBoxModel",
      "_view_count": null,
      "_view_module": "@jupyter-widgets/controls",
      "_view_module_version": "1.5.0",
      "_view_name": "HBoxView",
      "box_style": "",
      "children": [
       "IPY_MODEL_8ecda540586c4760bf94ea3eae0767d2",
       "IPY_MODEL_201aa25469944b0b80c9363fcc4fc95f"
      ],
      "layout": "IPY_MODEL_89f78d2a56c14ceaa6b1ebba54c4feb2"
     }
    },
    "4468101700ae4bccb66bba2dd10a13d9": {
     "model_module": "@jupyter-widgets/controls",
     "model_name": "FloatProgressModel",
     "state": {
      "_dom_classes": [],
      "_model_module": "@jupyter-widgets/controls",
      "_model_module_version": "1.5.0",
      "_model_name": "FloatProgressModel",
      "_view_count": null,
      "_view_module": "@jupyter-widgets/controls",
      "_view_module_version": "1.5.0",
      "_view_name": "ProgressView",
      "bar_style": "success",
      "description": "Downloading: 100%",
      "description_tooltip": null,
      "layout": "IPY_MODEL_abfe640017214179908de35ea38474ce",
      "max": 1179510242,
      "min": 0,
      "orientation": "horizontal",
      "style": "IPY_MODEL_a865a148857c4d1c962381692bd59857",
      "value": 1179510242
     }
    },
    "493d11cd156a4bfcb2bdc25aa21802fe": {
     "model_module": "@jupyter-widgets/controls",
     "model_name": "DescriptionStyleModel",
     "state": {
      "_model_module": "@jupyter-widgets/controls",
      "_model_module_version": "1.5.0",
      "_model_name": "DescriptionStyleModel",
      "_view_count": null,
      "_view_module": "@jupyter-widgets/base",
      "_view_module_version": "1.2.0",
      "_view_name": "StyleView",
      "description_width": ""
     }
    },
    "55f2f9482e3042bf81cb51aa64defd18": {
     "model_module": "@jupyter-widgets/base",
     "model_name": "LayoutModel",
     "state": {
      "_model_module": "@jupyter-widgets/base",
      "_model_module_version": "1.2.0",
      "_model_name": "LayoutModel",
      "_view_count": null,
      "_view_module": "@jupyter-widgets/base",
      "_view_module_version": "1.2.0",
      "_view_name": "LayoutView",
      "align_content": null,
      "align_items": null,
      "align_self": null,
      "border": null,
      "bottom": null,
      "display": null,
      "flex": null,
      "flex_flow": null,
      "grid_area": null,
      "grid_auto_columns": null,
      "grid_auto_flow": null,
      "grid_auto_rows": null,
      "grid_column": null,
      "grid_gap": null,
      "grid_row": null,
      "grid_template_areas": null,
      "grid_template_columns": null,
      "grid_template_rows": null,
      "height": null,
      "justify_content": null,
      "justify_items": null,
      "left": null,
      "margin": null,
      "max_height": null,
      "max_width": null,
      "min_height": null,
      "min_width": null,
      "object_fit": null,
      "object_position": null,
      "order": null,
      "overflow": null,
      "overflow_x": null,
      "overflow_y": null,
      "padding": null,
      "right": null,
      "top": null,
      "visibility": null,
      "width": null
     }
    },
    "5a0205b7d88a42a68d0f8d40265add8b": {
     "model_module": "@jupyter-widgets/base",
     "model_name": "LayoutModel",
     "state": {
      "_model_module": "@jupyter-widgets/base",
      "_model_module_version": "1.2.0",
      "_model_name": "LayoutModel",
      "_view_count": null,
      "_view_module": "@jupyter-widgets/base",
      "_view_module_version": "1.2.0",
      "_view_name": "LayoutView",
      "align_content": null,
      "align_items": null,
      "align_self": null,
      "border": null,
      "bottom": null,
      "display": null,
      "flex": null,
      "flex_flow": null,
      "grid_area": null,
      "grid_auto_columns": null,
      "grid_auto_flow": null,
      "grid_auto_rows": null,
      "grid_column": null,
      "grid_gap": null,
      "grid_row": null,
      "grid_template_areas": null,
      "grid_template_columns": null,
      "grid_template_rows": null,
      "height": null,
      "justify_content": null,
      "justify_items": null,
      "left": null,
      "margin": null,
      "max_height": null,
      "max_width": null,
      "min_height": null,
      "min_width": null,
      "object_fit": null,
      "object_position": null,
      "order": null,
      "overflow": null,
      "overflow_x": null,
      "overflow_y": null,
      "padding": null,
      "right": null,
      "top": null,
      "visibility": null,
      "width": null
     }
    },
    "7571cf9691ac419fb79dad6dfaa531d1": {
     "model_module": "@jupyter-widgets/controls",
     "model_name": "ProgressStyleModel",
     "state": {
      "_model_module": "@jupyter-widgets/controls",
      "_model_module_version": "1.5.0",
      "_model_name": "ProgressStyleModel",
      "_view_count": null,
      "_view_module": "@jupyter-widgets/base",
      "_view_module_version": "1.2.0",
      "_view_name": "StyleView",
      "bar_color": null,
      "description_width": "initial"
     }
    },
    "789151104986470ea6b887996b5833b5": {
     "model_module": "@jupyter-widgets/controls",
     "model_name": "DescriptionStyleModel",
     "state": {
      "_model_module": "@jupyter-widgets/controls",
      "_model_module_version": "1.5.0",
      "_model_name": "DescriptionStyleModel",
      "_view_count": null,
      "_view_module": "@jupyter-widgets/base",
      "_view_module_version": "1.2.0",
      "_view_name": "StyleView",
      "description_width": ""
     }
    },
    "7977691d32f54349a98abf6008504c3e": {
     "model_module": "@jupyter-widgets/base",
     "model_name": "LayoutModel",
     "state": {
      "_model_module": "@jupyter-widgets/base",
      "_model_module_version": "1.2.0",
      "_model_name": "LayoutModel",
      "_view_count": null,
      "_view_module": "@jupyter-widgets/base",
      "_view_module_version": "1.2.0",
      "_view_name": "LayoutView",
      "align_content": null,
      "align_items": null,
      "align_self": null,
      "border": null,
      "bottom": null,
      "display": null,
      "flex": null,
      "flex_flow": null,
      "grid_area": null,
      "grid_auto_columns": null,
      "grid_auto_flow": null,
      "grid_auto_rows": null,
      "grid_column": null,
      "grid_gap": null,
      "grid_row": null,
      "grid_template_areas": null,
      "grid_template_columns": null,
      "grid_template_rows": null,
      "height": null,
      "justify_content": null,
      "justify_items": null,
      "left": null,
      "margin": null,
      "max_height": null,
      "max_width": null,
      "min_height": null,
      "min_width": null,
      "object_fit": null,
      "object_position": null,
      "order": null,
      "overflow": null,
      "overflow_x": null,
      "overflow_y": null,
      "padding": null,
      "right": null,
      "top": null,
      "visibility": null,
      "width": null
     }
    },
    "89f78d2a56c14ceaa6b1ebba54c4feb2": {
     "model_module": "@jupyter-widgets/base",
     "model_name": "LayoutModel",
     "state": {
      "_model_module": "@jupyter-widgets/base",
      "_model_module_version": "1.2.0",
      "_model_name": "LayoutModel",
      "_view_count": null,
      "_view_module": "@jupyter-widgets/base",
      "_view_module_version": "1.2.0",
      "_view_name": "LayoutView",
      "align_content": null,
      "align_items": null,
      "align_self": null,
      "border": null,
      "bottom": null,
      "display": null,
      "flex": null,
      "flex_flow": null,
      "grid_area": null,
      "grid_auto_columns": null,
      "grid_auto_flow": null,
      "grid_auto_rows": null,
      "grid_column": null,
      "grid_gap": null,
      "grid_row": null,
      "grid_template_areas": null,
      "grid_template_columns": null,
      "grid_template_rows": null,
      "height": null,
      "justify_content": null,
      "justify_items": null,
      "left": null,
      "margin": null,
      "max_height": null,
      "max_width": null,
      "min_height": null,
      "min_width": null,
      "object_fit": null,
      "object_position": null,
      "order": null,
      "overflow": null,
      "overflow_x": null,
      "overflow_y": null,
      "padding": null,
      "right": null,
      "top": null,
      "visibility": null,
      "width": null
     }
    },
    "8ecda540586c4760bf94ea3eae0767d2": {
     "model_module": "@jupyter-widgets/controls",
     "model_name": "FloatProgressModel",
     "state": {
      "_dom_classes": [],
      "_model_module": "@jupyter-widgets/controls",
      "_model_module_version": "1.5.0",
      "_model_name": "FloatProgressModel",
      "_view_count": null,
      "_view_module": "@jupyter-widgets/controls",
      "_view_module_version": "1.5.0",
      "_view_name": "ProgressView",
      "bar_style": "success",
      "description": "Downloading: ",
      "description_tooltip": null,
      "layout": "IPY_MODEL_7977691d32f54349a98abf6008504c3e",
      "max": 1689,
      "min": 0,
      "orientation": "horizontal",
      "style": "IPY_MODEL_298d60fa5cd8441f86187130f3729e73",
      "value": 1689
     }
    },
    "9542a60fecc74375b59c2ef4b667c624": {
     "model_module": "@jupyter-widgets/controls",
     "model_name": "HTMLModel",
     "state": {
      "_dom_classes": [],
      "_model_module": "@jupyter-widgets/controls",
      "_model_module_version": "1.5.0",
      "_model_name": "HTMLModel",
      "_view_count": null,
      "_view_module": "@jupyter-widgets/controls",
      "_view_module_version": "1.5.0",
      "_view_name": "HTMLView",
      "description": "",
      "description_tooltip": null,
      "layout": "IPY_MODEL_ec9d69f76b464d54ad54fd49738e0420",
      "placeholder": "​",
      "style": "IPY_MODEL_cbd787e3c17c402299963144601fb8f0",
      "value": " 1.67k/? [00:00&lt;00:00, 3.96kB/s]"
     }
    },
    "9fe8214a7b1941039aadf375b90373f6": {
     "model_module": "@jupyter-widgets/base",
     "model_name": "LayoutModel",
     "state": {
      "_model_module": "@jupyter-widgets/base",
      "_model_module_version": "1.2.0",
      "_model_name": "LayoutModel",
      "_view_count": null,
      "_view_module": "@jupyter-widgets/base",
      "_view_module_version": "1.2.0",
      "_view_name": "LayoutView",
      "align_content": null,
      "align_items": null,
      "align_self": null,
      "border": null,
      "bottom": null,
      "display": null,
      "flex": null,
      "flex_flow": null,
      "grid_area": null,
      "grid_auto_columns": null,
      "grid_auto_flow": null,
      "grid_auto_rows": null,
      "grid_column": null,
      "grid_gap": null,
      "grid_row": null,
      "grid_template_areas": null,
      "grid_template_columns": null,
      "grid_template_rows": null,
      "height": null,
      "justify_content": null,
      "justify_items": null,
      "left": null,
      "margin": null,
      "max_height": null,
      "max_width": null,
      "min_height": null,
      "min_width": null,
      "object_fit": null,
      "object_position": null,
      "order": null,
      "overflow": null,
      "overflow_x": null,
      "overflow_y": null,
      "padding": null,
      "right": null,
      "top": null,
      "visibility": null,
      "width": null
     }
    },
    "a2628b3a684444b9b3aca1c36e111516": {
     "model_module": "@jupyter-widgets/controls",
     "model_name": "ProgressStyleModel",
     "state": {
      "_model_module": "@jupyter-widgets/controls",
      "_model_module_version": "1.5.0",
      "_model_name": "ProgressStyleModel",
      "_view_count": null,
      "_view_module": "@jupyter-widgets/base",
      "_view_module_version": "1.2.0",
      "_view_name": "StyleView",
      "bar_color": null,
      "description_width": "initial"
     }
    },
    "a865a148857c4d1c962381692bd59857": {
     "model_module": "@jupyter-widgets/controls",
     "model_name": "ProgressStyleModel",
     "state": {
      "_model_module": "@jupyter-widgets/controls",
      "_model_module_version": "1.5.0",
      "_model_name": "ProgressStyleModel",
      "_view_count": null,
      "_view_module": "@jupyter-widgets/base",
      "_view_module_version": "1.2.0",
      "_view_name": "StyleView",
      "bar_color": null,
      "description_width": "initial"
     }
    },
    "abfe640017214179908de35ea38474ce": {
     "model_module": "@jupyter-widgets/base",
     "model_name": "LayoutModel",
     "state": {
      "_model_module": "@jupyter-widgets/base",
      "_model_module_version": "1.2.0",
      "_model_name": "LayoutModel",
      "_view_count": null,
      "_view_module": "@jupyter-widgets/base",
      "_view_module_version": "1.2.0",
      "_view_name": "LayoutView",
      "align_content": null,
      "align_items": null,
      "align_self": null,
      "border": null,
      "bottom": null,
      "display": null,
      "flex": null,
      "flex_flow": null,
      "grid_area": null,
      "grid_auto_columns": null,
      "grid_auto_flow": null,
      "grid_auto_rows": null,
      "grid_column": null,
      "grid_gap": null,
      "grid_row": null,
      "grid_template_areas": null,
      "grid_template_columns": null,
      "grid_template_rows": null,
      "height": null,
      "justify_content": null,
      "justify_items": null,
      "left": null,
      "margin": null,
      "max_height": null,
      "max_width": null,
      "min_height": null,
      "min_width": null,
      "object_fit": null,
      "object_position": null,
      "order": null,
      "overflow": null,
      "overflow_x": null,
      "overflow_y": null,
      "padding": null,
      "right": null,
      "top": null,
      "visibility": null,
      "width": null
     }
    },
    "b5fe978e2b204b5a986feb53c241d943": {
     "model_module": "@jupyter-widgets/controls",
     "model_name": "FloatProgressModel",
     "state": {
      "_dom_classes": [],
      "_model_module": "@jupyter-widgets/controls",
      "_model_module_version": "1.5.0",
      "_model_name": "FloatProgressModel",
      "_view_count": null,
      "_view_module": "@jupyter-widgets/controls",
      "_view_module_version": "1.5.0",
      "_view_name": "ProgressView",
      "bar_style": "info",
      "description": "",
      "description_tooltip": null,
      "layout": "IPY_MODEL_febdc99b2c074afb8e1b11aa35e7fcdf",
      "max": 1,
      "min": 0,
      "orientation": "horizontal",
      "style": "IPY_MODEL_7571cf9691ac419fb79dad6dfaa531d1",
      "value": 1
     }
    },
    "cbd787e3c17c402299963144601fb8f0": {
     "model_module": "@jupyter-widgets/controls",
     "model_name": "DescriptionStyleModel",
     "state": {
      "_model_module": "@jupyter-widgets/controls",
      "_model_module_version": "1.5.0",
      "_model_name": "DescriptionStyleModel",
      "_view_count": null,
      "_view_module": "@jupyter-widgets/base",
      "_view_module_version": "1.2.0",
      "_view_name": "StyleView",
      "description_width": ""
     }
    },
    "cbe70f7f0c7c4bd99bf858a1d72d63c7": {
     "model_module": "@jupyter-widgets/base",
     "model_name": "LayoutModel",
     "state": {
      "_model_module": "@jupyter-widgets/base",
      "_model_module_version": "1.2.0",
      "_model_name": "LayoutModel",
      "_view_count": null,
      "_view_module": "@jupyter-widgets/base",
      "_view_module_version": "1.2.0",
      "_view_name": "LayoutView",
      "align_content": null,
      "align_items": null,
      "align_self": null,
      "border": null,
      "bottom": null,
      "display": null,
      "flex": null,
      "flex_flow": null,
      "grid_area": null,
      "grid_auto_columns": null,
      "grid_auto_flow": null,
      "grid_auto_rows": null,
      "grid_column": null,
      "grid_gap": null,
      "grid_row": null,
      "grid_template_areas": null,
      "grid_template_columns": null,
      "grid_template_rows": null,
      "height": null,
      "justify_content": null,
      "justify_items": null,
      "left": null,
      "margin": null,
      "max_height": null,
      "max_width": null,
      "min_height": null,
      "min_width": null,
      "object_fit": null,
      "object_position": null,
      "order": null,
      "overflow": null,
      "overflow_x": null,
      "overflow_y": null,
      "padding": null,
      "right": null,
      "top": null,
      "visibility": null,
      "width": null
     }
    },
    "db53b231459c49aa9d8fcef70617ef0b": {
     "model_module": "@jupyter-widgets/base",
     "model_name": "LayoutModel",
     "state": {
      "_model_module": "@jupyter-widgets/base",
      "_model_module_version": "1.2.0",
      "_model_name": "LayoutModel",
      "_view_count": null,
      "_view_module": "@jupyter-widgets/base",
      "_view_module_version": "1.2.0",
      "_view_name": "LayoutView",
      "align_content": null,
      "align_items": null,
      "align_self": null,
      "border": null,
      "bottom": null,
      "display": null,
      "flex": null,
      "flex_flow": null,
      "grid_area": null,
      "grid_auto_columns": null,
      "grid_auto_flow": null,
      "grid_auto_rows": null,
      "grid_column": null,
      "grid_gap": null,
      "grid_row": null,
      "grid_template_areas": null,
      "grid_template_columns": null,
      "grid_template_rows": null,
      "height": null,
      "justify_content": null,
      "justify_items": null,
      "left": null,
      "margin": null,
      "max_height": null,
      "max_width": null,
      "min_height": null,
      "min_width": null,
      "object_fit": null,
      "object_position": null,
      "order": null,
      "overflow": null,
      "overflow_x": null,
      "overflow_y": null,
      "padding": null,
      "right": null,
      "top": null,
      "visibility": null,
      "width": null
     }
    },
    "ec9d69f76b464d54ad54fd49738e0420": {
     "model_module": "@jupyter-widgets/base",
     "model_name": "LayoutModel",
     "state": {
      "_model_module": "@jupyter-widgets/base",
      "_model_module_version": "1.2.0",
      "_model_name": "LayoutModel",
      "_view_count": null,
      "_view_module": "@jupyter-widgets/base",
      "_view_module_version": "1.2.0",
      "_view_name": "LayoutView",
      "align_content": null,
      "align_items": null,
      "align_self": null,
      "border": null,
      "bottom": null,
      "display": null,
      "flex": null,
      "flex_flow": null,
      "grid_area": null,
      "grid_auto_columns": null,
      "grid_auto_flow": null,
      "grid_auto_rows": null,
      "grid_column": null,
      "grid_gap": null,
      "grid_row": null,
      "grid_template_areas": null,
      "grid_template_columns": null,
      "grid_template_rows": null,
      "height": null,
      "justify_content": null,
      "justify_items": null,
      "left": null,
      "margin": null,
      "max_height": null,
      "max_width": null,
      "min_height": null,
      "min_width": null,
      "object_fit": null,
      "object_position": null,
      "order": null,
      "overflow": null,
      "overflow_x": null,
      "overflow_y": null,
      "padding": null,
      "right": null,
      "top": null,
      "visibility": null,
      "width": null
     }
    },
    "f61af757678d40e7b6c470ca779a0e1b": {
     "model_module": "@jupyter-widgets/controls",
     "model_name": "HTMLModel",
     "state": {
      "_dom_classes": [],
      "_model_module": "@jupyter-widgets/controls",
      "_model_module_version": "1.5.0",
      "_model_name": "HTMLModel",
      "_view_count": null,
      "_view_module": "@jupyter-widgets/controls",
      "_view_module_version": "1.5.0",
      "_view_name": "HTMLView",
      "description": "",
      "description_tooltip": null,
      "layout": "IPY_MODEL_2c46976452b8428da3f74d1d37267a55",
      "placeholder": "​",
      "style": "IPY_MODEL_789151104986470ea6b887996b5833b5",
      "value": " 74004228/0 [10:05&lt;00:00, 122513.28 examples/s]"
     }
    },
    "fa3423ee18214e89a9ff45554a5a2d21": {
     "model_module": "@jupyter-widgets/controls",
     "model_name": "DescriptionStyleModel",
     "state": {
      "_model_module": "@jupyter-widgets/controls",
      "_model_module_version": "1.5.0",
      "_model_name": "DescriptionStyleModel",
      "_view_count": null,
      "_view_module": "@jupyter-widgets/base",
      "_view_module_version": "1.2.0",
      "_view_name": "StyleView",
      "description_width": ""
     }
    },
    "febdc99b2c074afb8e1b11aa35e7fcdf": {
     "model_module": "@jupyter-widgets/base",
     "model_name": "LayoutModel",
     "state": {
      "_model_module": "@jupyter-widgets/base",
      "_model_module_version": "1.2.0",
      "_model_name": "LayoutModel",
      "_view_count": null,
      "_view_module": "@jupyter-widgets/base",
      "_view_module_version": "1.2.0",
      "_view_name": "LayoutView",
      "align_content": null,
      "align_items": null,
      "align_self": null,
      "border": null,
      "bottom": null,
      "display": null,
      "flex": null,
      "flex_flow": null,
      "grid_area": null,
      "grid_auto_columns": null,
      "grid_auto_flow": null,
      "grid_auto_rows": null,
      "grid_column": null,
      "grid_gap": null,
      "grid_row": null,
      "grid_template_areas": null,
      "grid_template_columns": null,
      "grid_template_rows": null,
      "height": null,
      "justify_content": null,
      "justify_items": null,
      "left": null,
      "margin": null,
      "max_height": null,
      "max_width": null,
      "min_height": null,
      "min_width": null,
      "object_fit": null,
      "object_position": null,
      "order": null,
      "overflow": null,
      "overflow_x": null,
      "overflow_y": null,
      "padding": null,
      "right": null,
      "top": null,
      "visibility": null,
      "width": null
     }
    }
   }
  }
 },
 "nbformat": 4,
 "nbformat_minor": 4
}
